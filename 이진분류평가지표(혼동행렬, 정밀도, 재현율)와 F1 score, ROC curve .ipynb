{
 "cells": [
  {
   "cell_type": "markdown",
   "id": "d720e386",
   "metadata": {},
   "source": [
    "**이진분류에서 정확도(Accuracy)는 신뢰성이 낮아서 잘 쓰지 않는다.**"
   ]
  },
  {
   "cell_type": "markdown",
   "id": "a3409b1a",
   "metadata": {},
   "source": [
    "* Accuracy대신 Confusion matrix, Precision, Recall, f1 score, ROC curve, AUC score를 사용합니다.\n",
    "* 타이타닉 생존자 예측 데이터는 생존과 사망을 분류하는 이진분류입니다.\n",
    "* titanic 데이터를 이용해 이진분류 평가지표를 실습해봅니다."
   ]
  },
  {
   "cell_type": "markdown",
   "id": "ae5dd487",
   "metadata": {},
   "source": [
    "# 타이타닉 데이터를 전처리해주는 타이타닉 맞춤 전처리 함수를 생성합니다."
   ]
  },
  {
   "cell_type": "code",
   "execution_count": 1,
   "id": "d8473d53",
   "metadata": {
    "ExecuteTime": {
     "end_time": "2022-04-22T15:55:23.525802Z",
     "start_time": "2022-04-22T15:55:22.632883Z"
    }
   },
   "outputs": [],
   "source": [
    "import sklearn\n",
    "import pandas as pd\n",
    "import numpy as np"
   ]
  },
  {
   "cell_type": "markdown",
   "id": "1d3dfa54",
   "metadata": {},
   "source": [
    "## 타이나틱 데이터 전용 결측치 처리 함수를 생성합니다."
   ]
  },
  {
   "cell_type": "code",
   "execution_count": 2,
   "id": "1615231d",
   "metadata": {
    "ExecuteTime": {
     "end_time": "2022-04-22T15:55:23.541481Z",
     "start_time": "2022-04-22T15:55:23.527687Z"
    }
   },
   "outputs": [],
   "source": [
    "# 타이나틱 데이터 전용 결측치 처리 함수를 생성합니다.\n",
    "\n",
    "def t_fillna(t_df):\n",
    "    t_df['Age'].fillna(t_df['Age'].mean(),inplace=True)  # 나이컬럼의 결측치는 승객 나이 평균을 대입합니다.\n",
    "    t_df['Cabin'].fillna('N', inplace=True)   # Cabin 컬럼의 결측치는 N을 채워넣습니다.\n",
    "    t_df['Embarked'].fillna('N', inplace=True)  # Embarked 컬럼의 결측치는 N을 채워넣습니다.\n",
    "    t_df['Fare'].fillna(0, inplace=True)  # Fare 칼럼의 결측치는 0을 채워넣습니다.\n",
    "    return t_df"
   ]
  },
  {
   "cell_type": "markdown",
   "id": "755ba51a",
   "metadata": {},
   "source": [
    "## 타이타닉 데이터 맞춤 불필요하 피처 제거 함수를 생성합니다."
   ]
  },
  {
   "cell_type": "code",
   "execution_count": 3,
   "id": "61b83dd2",
   "metadata": {
    "ExecuteTime": {
     "end_time": "2022-04-22T15:55:23.557288Z",
     "start_time": "2022-04-22T15:55:23.542930Z"
    }
   },
   "outputs": [],
   "source": [
    "# 타이타닉 데이터 맞춤 불필요하 피처 제거 함수를 생성합니다.\n",
    "# 'PassengerId','Name','Ticket' 칼럼은 생존자 예측 분류에 도움이 되지 않습니다.\n",
    "\n",
    "def t_drop_features(t_df):\n",
    "    t_df.drop(['PassengerId','Name','Ticket'], axis=1, inplace=True)\n",
    "    return t_df"
   ]
  },
  {
   "cell_type": "markdown",
   "id": "deb07f04",
   "metadata": {},
   "source": [
    "## 타이타닉 데이터 맞춤 레이블 인코딩을 수행하는 함수를 생성합니다."
   ]
  },
  {
   "cell_type": "code",
   "execution_count": 4,
   "id": "3b851f68",
   "metadata": {
    "ExecuteTime": {
     "end_time": "2022-04-22T15:55:23.589457Z",
     "start_time": "2022-04-22T15:55:23.559151Z"
    }
   },
   "outputs": [],
   "source": [
    "# 타이타닉 데이터 맞춤 레이블 인코딩을 수행하는 함수를 생성합니다.\n",
    "from sklearn.preprocessing import LabelEncoder\n",
    "\n",
    "def t_format_features(t_df):\n",
    "    t_df['Cabin'] = t_df['Cabin'].str[:1]  # Cabin 칼럼에서 문자뒤의 숫자를 모두 제거합니다.\n",
    "    features = ['Cabin', 'Sex', 'Embarked']\n",
    "    for feature in features:\n",
    "        le = LabelEncoder()\n",
    "        le = le.fit(t_df[feature])\n",
    "        t_df[feature] = le.transform(t_df[feature])\n",
    "    return t_df"
   ]
  },
  {
   "cell_type": "markdown",
   "id": "88fbca95",
   "metadata": {},
   "source": [
    "## 위에서 만들어준 결측치 처리, 쓸데없는 칼럼 제거, 레이블 인코딩 수행 함수를 모두 하나의 함수에 담아줍니다."
   ]
  },
  {
   "cell_type": "code",
   "execution_count": 5,
   "id": "b850fea3",
   "metadata": {
    "ExecuteTime": {
     "end_time": "2022-04-22T15:55:23.605624Z",
     "start_time": "2022-04-22T15:55:23.590938Z"
    }
   },
   "outputs": [],
   "source": [
    "# 위에서 만들어준 결측치 처리, 쓸데없는 칼럼 제거, 레이블 인코딩 수행 함수를 모두 하나의 함수에 담아줍니다.\n",
    "# 타이타닉 데이서 맞춤 종합 전처리 함수인 titanic_preprocessing()를 생성합니다.\n",
    "\n",
    "def titanic_preprocessing(t_df):\n",
    "    t_df = t_fillna(t_df)\n",
    "    t_df = t_drop_features(t_df)\n",
    "    t_df = t_format_features(t_df)\n",
    "    return t_df"
   ]
  },
  {
   "cell_type": "markdown",
   "id": "70904da4",
   "metadata": {},
   "source": [
    " # 혼동행렬, 정밀도, 재현율을 동시에 계산하는 분류평가지표 함수를 생성합니다."
   ]
  },
  {
   "cell_type": "code",
   "execution_count": 6,
   "id": "ade004e5",
   "metadata": {
    "ExecuteTime": {
     "end_time": "2022-04-22T15:55:23.636089Z",
     "start_time": "2022-04-22T15:55:23.607383Z"
    }
   },
   "outputs": [],
   "source": [
    "# 혼동행렬, 정확도, 정밀도 , 재현율을 한꺼번에 계산하는 함수 생성\n",
    "\n",
    "from sklearn.metrics import accuracy_score, precision_score , recall_score , confusion_matrix\n",
    "\n",
    "def get_clf_eval(y_test, pred):\n",
    "    confusion = confusion_matrix(y_test, pred)\n",
    "    accuracy = accuracy_score(y_test, pred)\n",
    "    precision = precision_score(y_test, pred)\n",
    "    recall = recall_score(y_test, pred)\n",
    "    print('Confusion Matrix')\n",
    "    print(confusion)\n",
    "    print(\"정확도: {0: 0.4f}, 정밀도: {1: 0.4f}, 재현율: {2: 0.4f}\".format(accuracy, precision, recall))"
   ]
  },
  {
   "cell_type": "markdown",
   "id": "78dc5bfb",
   "metadata": {},
   "source": [
    "# LogisticRegression로 타이타닉 데이터를 학습한 다음에 분류평가지표를 실습해봅니다."
   ]
  },
  {
   "cell_type": "code",
   "execution_count": 7,
   "id": "3a9e1d1b",
   "metadata": {
    "ExecuteTime": {
     "end_time": "2022-04-22T15:55:23.745576Z",
     "start_time": "2022-04-22T15:55:23.637122Z"
    }
   },
   "outputs": [
    {
     "name": "stdout",
     "output_type": "stream",
     "text": [
      "Confusion Matrix\n",
      "[[108  10]\n",
      " [ 14  47]]\n",
      "정확도:  0.8659, 정밀도:  0.8246, 재현율:  0.7705\n"
     ]
    }
   ],
   "source": [
    "# 학습데이터와 테스트 데이터를 분리하는 train_test_split를 가져옵니다. \n",
    "from sklearn.model_selection import train_test_split \n",
    "\n",
    "# 분류 중에서 LogisticRegression를 가져옵니다.\n",
    "from sklearn.linear_model import LogisticRegression  \n",
    "\n",
    "# 경고메세지를 무시합니다.\n",
    "import warnings\n",
    "warnings.filterwarnings('ignore')\n",
    "\n",
    "# 타이타닉 데이터를 재로딩, 전치리, 학습/테스트 데이터 셋으로 분할합니다.\n",
    "titanic_df = pd.read_csv(\"C:/Users/wkdgu/권철민 머신러닝/PerfectGuide-master/PerfectGuide-master/2장/titanic/train.csv\")\n",
    "y_titanic_df = titanic_df['Survived']   # Survived 칼럼이 target입니다.\n",
    "X_titanic_df = titanic_df.drop('Survived', axis=1)   # Survived 을 제외한 나머지 칼럼이 feature 데이터 셋입니다.\n",
    "X_titanic_df = titanic_preprocessing(X_titanic_df)   # feature 데이터 셋을 전처리 해줍니다.\n",
    "\n",
    "X_train, X_test, y_train, y_test = train_test_split(X_titanic_df, y_titanic_df, test_size=0.2, random_state=11)\n",
    "\n",
    "lr_clf = LogisticRegression(solver='liblinear')\n",
    "\n",
    "lr_clf.fit(X_train, y_train)\n",
    "pred = lr_clf.predict(X_test)\n",
    "get_clf_eval(y_test, pred)"
   ]
  },
  {
   "cell_type": "markdown",
   "id": "7c34802c",
   "metadata": {},
   "source": [
    "# 정밀도/재현율 trade-off를 살펴봅니다."
   ]
  },
  {
   "cell_type": "markdown",
   "id": "2db92d0a",
   "metadata": {},
   "source": [
    "**일단 predict_proba()와 Binarizer에 대해 공부합니다.**"
   ]
  },
  {
   "cell_type": "markdown",
   "id": "99c8a85d",
   "metadata": {},
   "source": [
    " ## predict_proba()"
   ]
  },
  {
   "cell_type": "code",
   "execution_count": 8,
   "id": "286ae597",
   "metadata": {
    "ExecuteTime": {
     "end_time": "2022-04-22T15:55:23.761486Z",
     "start_time": "2022-04-22T15:55:23.746473Z"
    }
   },
   "outputs": [
    {
     "name": "stdout",
     "output_type": "stream",
     "text": [
      "pred_proba()결과 Shape : (179, 2)\n",
      "pred_proba array에서 앞 3개만 샘플로 추출 \n",
      ": [[0.44935225 0.55064775]\n",
      " [0.86335511 0.13664489]\n",
      " [0.86429643 0.13570357]]\n",
      "두개의 class 중에서 더 큰 확률을 클래스 값으로 예측 \n",
      " [[0.44935225 0.55064775 1.        ]\n",
      " [0.86335511 0.13664489 0.        ]\n",
      " [0.86429643 0.13570357 0.        ]]\n"
     ]
    }
   ],
   "source": [
    "# predict_proba()는 2개의 값을 반환합니다.\n",
    "# 앞은 이진분류일 때 0일 나올 확률, 뒤는 1이 나올 확률을 반환합니다.\n",
    "\n",
    "pred_proba = lr_clf.predict_proba(X_test)\n",
    "pred = lr_clf.predict(X_test)\n",
    "\n",
    "print('pred_proba()결과 Shape : {0}'.format(pred_proba.shape))\n",
    "print('pred_proba array에서 앞 3개만 샘플로 추출 \\n:', pred_proba[:3])\n",
    "\n",
    "# 예측 확률 array 와 예측 결과값 array 를 concatenate 하여 예측 확률과 결과값을 한눈에 확인\n",
    "pred_proba_result = np.concatenate([pred_proba, pred.reshape(-1, 1)], axis=1)\n",
    "print('두개의 class 중에서 더 큰 확률을 클래스 값으로 예측 \\n',pred_proba_result[:3])"
   ]
  },
  {
   "cell_type": "markdown",
   "id": "7d5bc6f2",
   "metadata": {},
   "source": [
    "## Binarizer"
   ]
  },
  {
   "cell_type": "code",
   "execution_count": 9,
   "id": "f6aa24ee",
   "metadata": {
    "ExecuteTime": {
     "end_time": "2022-04-22T15:55:23.777470Z",
     "start_time": "2022-04-22T15:55:23.762342Z"
    }
   },
   "outputs": [
    {
     "name": "stdout",
     "output_type": "stream",
     "text": [
      "[[0. 0. 1.]\n",
      " [1. 0. 0.]\n",
      " [0. 0. 1.]]\n"
     ]
    }
   ],
   "source": [
    "# Binarizer는 threshold 기준값보다 같거나 작으면 0을, 크면 1을 반환\n",
    "# Binarizer에 들어가는 값은 2차원이 되어야 됨\n",
    "from sklearn.preprocessing import Binarizer\n",
    "\n",
    "X = [[1,-1,2],\n",
    "     [2,0,0],\n",
    "     [0, 1.1, 1.2]]\n",
    "\n",
    "binarizer = Binarizer(threshold=1.1)\n",
    "print(binarizer.fit_transform(X))"
   ]
  },
  {
   "cell_type": "code",
   "execution_count": 10,
   "id": "856c21f5",
   "metadata": {
    "ExecuteTime": {
     "end_time": "2022-04-22T15:55:23.793494Z",
     "start_time": "2022-04-22T15:55:23.779379Z"
    }
   },
   "outputs": [
    {
     "data": {
      "text/plain": [
       "(179,)"
      ]
     },
     "execution_count": 10,
     "metadata": {},
     "output_type": "execute_result"
    }
   ],
   "source": [
    "pred_proba_1 = pred_proba[:,1]\n",
    "pred_proba_1.shape"
   ]
  },
  {
   "cell_type": "markdown",
   "id": "3d4000f3",
   "metadata": {},
   "source": [
    "## 분류 결정 임계값 0.5기반에서 Binarizer를 이용하여 예측값 반환"
   ]
  },
  {
   "cell_type": "code",
   "execution_count": 11,
   "id": "e03bf586",
   "metadata": {
    "ExecuteTime": {
     "end_time": "2022-04-22T15:55:23.808620Z",
     "start_time": "2022-04-22T15:55:23.795145Z"
    }
   },
   "outputs": [
    {
     "name": "stdout",
     "output_type": "stream",
     "text": [
      "Confusion Matrix\n",
      "[[108  10]\n",
      " [ 14  47]]\n",
      "정확도:  0.8659, 정밀도:  0.8246, 재현율:  0.7705\n"
     ]
    }
   ],
   "source": [
    "from sklearn.preprocessing import Binarizer\n",
    "\n",
    "#Binarizer의 threshold 설정값. 분류 결정 임곗값임.  \n",
    "custom_threshold = 0.5\n",
    "\n",
    "# predict_proba( ) 반환값의 두번째 컬럼 , 즉 Positive 클래스 컬럼 하나만 추출합니다.\n",
    "# Binarizer에는 2차원 값만 들어갈 수 있어서 반환값을 2차원으로 바꿔줍니다.\n",
    "pred_proba_1 = pred_proba[:, 1].reshape(-1,1)\n",
    "\n",
    "binarizer = Binarizer(threshold=custom_threshold)\n",
    "custom_predict = binarizer.fit_transform(pred_proba_1)\n",
    "\n",
    "get_clf_eval(y_test, custom_predict)\n",
    "\n",
    "# pred = lr_clf.predict(X_test)\n",
    "# get_clf_eval(y_test , pred)\n",
    "# 정확도: 0.8659, 정밀도: 0.8246, 재현율: 0.7705\n",
    "\n",
    "# 위의 pred했을 때의 값과 일치힘. pred의 분류결정 임계값이 0.5임을 알 수 있음"
   ]
  },
  {
   "cell_type": "markdown",
   "id": "15596801",
   "metadata": {},
   "source": [
    "## 분류결정 임계값 0.4기반에서 Binarizer를 이용하여 예측값 반환"
   ]
  },
  {
   "cell_type": "code",
   "execution_count": 12,
   "id": "74fa85ba",
   "metadata": {
    "ExecuteTime": {
     "end_time": "2022-04-22T15:55:23.824019Z",
     "start_time": "2022-04-22T15:55:23.810283Z"
    }
   },
   "outputs": [
    {
     "name": "stdout",
     "output_type": "stream",
     "text": [
      "Confusion Matrix\n",
      "[[97 21]\n",
      " [11 50]]\n",
      "정확도:  0.8212, 정밀도:  0.7042, 재현율:  0.8197\n"
     ]
    }
   ],
   "source": [
    "custom_threshold_2 = 0.4\n",
    "\n",
    "# pred_proba()는 두 개의 값을 반환합니다. 이진분류에서 첫번째 값은 0이 될 확률, 두번째 값은 1이 될 확률입니다.\n",
    "# predict_proba( ) 반환값의 두번째 컬럼 , 즉 Positive 클래스 컬럼 하나만 추출합니다.\n",
    "pred_proba_2 = pred_proba[:,1].reshape(-1,1)\n",
    "binarizer = Binarizer(threshold = custom_threshold_2)\n",
    "custom_predict = binarizer.fit_transform(pred_proba_2)\n",
    "\n",
    "get_clf_eval(y_test, custom_predict)\n",
    "\n",
    "# 분류결정 임계값을 0.5 -> 0.4로 낮추자 정밀도가 떨어지고 재현율이 올라감\n",
    "# 분류결정 임계값이 내려가면 positive로 예측할 확률이 커져서 FP가 커져서 정밀도가 낮아짐\n",
    "# 분류결정 임계값이 내려가면 Negative로 예측할 확률이 떨어져 FN이 작아져 재현율이 올라감"
   ]
  },
  {
   "cell_type": "markdown",
   "id": "610ba97b",
   "metadata": {},
   "source": [
    "##  분류 결정 임곗값을 여러번 변경하면서  Binarizer를 이용하여 예측값 변환"
   ]
  },
  {
   "cell_type": "code",
   "execution_count": 13,
   "id": "d10f9736",
   "metadata": {
    "ExecuteTime": {
     "end_time": "2022-04-22T15:55:23.855503Z",
     "start_time": "2022-04-22T15:55:23.825419Z"
    }
   },
   "outputs": [
    {
     "name": "stdout",
     "output_type": "stream",
     "text": [
      "임곗값: 0.4\n",
      "Confusion Matrix\n",
      "[[97 21]\n",
      " [11 50]]\n",
      "정확도:  0.8212, 정밀도:  0.7042, 재현율:  0.8197\n",
      " \n",
      "임곗값: 0.45\n",
      "Confusion Matrix\n",
      "[[105  13]\n",
      " [ 13  48]]\n",
      "정확도:  0.8547, 정밀도:  0.7869, 재현율:  0.7869\n",
      " \n",
      "임곗값: 0.5\n",
      "Confusion Matrix\n",
      "[[108  10]\n",
      " [ 14  47]]\n",
      "정확도:  0.8659, 정밀도:  0.8246, 재현율:  0.7705\n",
      " \n",
      "임곗값: 0.55\n",
      "Confusion Matrix\n",
      "[[111   7]\n",
      " [ 16  45]]\n",
      "정확도:  0.8715, 정밀도:  0.8654, 재현율:  0.7377\n",
      " \n",
      "임곗값: 0.6\n",
      "Confusion Matrix\n",
      "[[113   5]\n",
      " [ 17  44]]\n",
      "정확도:  0.8771, 정밀도:  0.8980, 재현율:  0.7213\n",
      " \n"
     ]
    }
   ],
   "source": [
    "# 테스트를 수행할 모든 임곗값을 리스트 객체로 저장. \n",
    "thresholds = [0.4, 0.45, 0.50, 0.55, 0.60]\n",
    "\n",
    "# thresholds list객체내의 값을 차례로 iteration하면서 Evaluation 수행.\n",
    "def get_eval_by_threshold(y_test, pred_proba_c1, thresholds):\n",
    "    for custom_threshold in thresholds:\n",
    "        binarizer = Binarizer(threshold = custom_threshold)\n",
    "        custom_predict = binarizer.fit_transform(pred_proba_c1)\n",
    "        print('임곗값:',custom_threshold)\n",
    "        get_clf_eval(y_test, custom_predict)\n",
    "        print(\" \")\n",
    "        \n",
    "get_eval_by_threshold(y_test ,pred_proba[:,1].reshape(-1,1), thresholds )\n",
    "\n",
    "# 임계값이 높아 질수록 재현율은 떨어지고 정밀도는 올라가고 있음"
   ]
  },
  {
   "cell_type": "markdown",
   "id": "6efcd81d",
   "metadata": {},
   "source": [
    "## precision_recall_curve( ) 를 이용하여 임곗값에 따른 정밀도-재현율 값 추출"
   ]
  },
  {
   "cell_type": "code",
   "execution_count": 14,
   "id": "f045107a",
   "metadata": {
    "ExecuteTime": {
     "end_time": "2022-04-22T15:55:23.871287Z",
     "start_time": "2022-04-22T15:55:23.857064Z"
    }
   },
   "outputs": [
    {
     "name": "stdout",
     "output_type": "stream",
     "text": [
      "반환된 분류 결정 임곗값 배열의 Shape: (147,)\n",
      "반환된 precisions 배열의 Shape: (148,)\n",
      "반환된 recalls 배열의 Shape: (148,)\n",
      "thresholds 5 sample: [0.11573102 0.11636723 0.11819213 0.12102774 0.1234948 ]\n",
      "precisions 5 sample: [0.37888199 0.375      0.37735849 0.37974684 0.38216561]\n",
      "recalls 5 sample: [1.         0.98360656 0.98360656 0.98360656 0.98360656]\n",
      "샘플 추출을 위한 임계값 배열의 index 10개: [  0  15  30  45  60  75  90 105 120 135]\n",
      "샘플용 10개의 임곗값:  [0.12 0.13 0.15 0.17 0.26 0.38 0.49 0.63 0.76 0.9 ]\n",
      "샘플 임계값별 정밀도 :  [0.379 0.424 0.455 0.519 0.618 0.676 0.797 0.93  0.964 1.   ]\n",
      "샘플 임계값별 재현율 :  [1.    0.967 0.902 0.902 0.902 0.82  0.77  0.656 0.443 0.213]\n",
      " \n",
      "임계값이 커짐에 따라 정밀도는 높아지고 재현율은 낮아진다\n"
     ]
    }
   ],
   "source": [
    "from sklearn.metrics import precision_recall_curve\n",
    "\n",
    "# Positive일 때 예측 확률을 추출\n",
    "pred_proba_class1 = lr_clf.predict_proba(X_test)[:, 1]\n",
    "\n",
    "# precision_recall_curve()는 인수로 test_target 데이터 셋과 예측확률 값을 인자로 넣어주면\n",
    "# 거기에 따른 정밀도, 재현율, 분류임계값 nd.array를 반환합니다.\n",
    "precisions, recalls, thresholds = precision_recall_curve(y_test, pred_proba_class1)\n",
    "\n",
    "print('반환된 분류 결정 임곗값 배열의 Shape:', thresholds.shape)\n",
    "print('반환된 precisions 배열의 Shape:', precisions.shape)\n",
    "print('반환된 recalls 배열의 Shape:', recalls.shape)\n",
    "\n",
    "print('thresholds 5 sample:', thresholds[:5])\n",
    "print('precisions 5 sample:', precisions[:5])\n",
    "print('recalls 5 sample:', recalls[:5])\n",
    "\n",
    "#반환된 임계값 배열 로우가 147건이므로 샘플로 10건만 추출하되, 임곗값을 15 Step으로 추출.\n",
    "thr_index = np.arange(0, thresholds.shape[0], 15)\n",
    "print('샘플 추출을 위한 임계값 배열의 index 10개:', thr_index)\n",
    "print('샘플용 10개의 임곗값: ', np.round(thresholds[thr_index], 2))\n",
    "\n",
    "# 15 step 단위로 추출된 임계값에 따른 정밀도와 재현율 값 \n",
    "print(\"샘플 임계값별 정밀도 : \",  np.round(precisions[thr_index], 3))\n",
    "print(\"샘플 임계값별 재현율 : \",  np.round(recalls[thr_index], 3))\n",
    "print(\" \")\n",
    "print(\"임계값이 커짐에 따라 정밀도는 높아지고 재현율은 낮아진다\")"
   ]
  },
  {
   "cell_type": "markdown",
   "id": "f12f4b9e",
   "metadata": {},
   "source": [
    "## 임곗값의 변경에 따른 정밀도-재현율 변화 곡선을 그려주는 함수 생성"
   ]
  },
  {
   "cell_type": "code",
   "execution_count": 15,
   "id": "9306850d",
   "metadata": {
    "ExecuteTime": {
     "end_time": "2022-04-22T15:55:24.279193Z",
     "start_time": "2022-04-22T15:55:23.872320Z"
    }
   },
   "outputs": [
    {
     "data": {
      "image/png": "[encoded data removed]",
      "text/plain": [
       "<Figure size 576x432 with 1 Axes>"
      ]
     },
     "metadata": {
      "needs_background": "light"
     },
     "output_type": "display_data"
    }
   ],
   "source": [
    "import matplotlib.pyplot as plt\n",
    "import matplotlib.ticker as ticker\n",
    "%matplotlib inline\n",
    "\n",
    "def precision_recall_curve_plot(y_test, pred_proba_c1):\n",
    "    # precision_recall_curve()는 인수로 test_target 데이터 셋과 positive 예측확률 값을 인자로 넣어주면\n",
    "    # 거기에 따른 정밀도, 재현율, 분류임계값 nd.array를 반환합니다.\n",
    "    precision, recalls, thresholds= precision_recall_curve(y_test, pred_proba_c1)\n",
    "    \n",
    "    # X축을 threshold값으로, Y축은 정밀도, 재현율 값으로 각각 Plot 수행. 정밀도는 점선으로 표시\n",
    "    plt.figure(figsize=(8,6))\n",
    "    threshold_boundary = thresholds.shape[0]\n",
    "    plt.plot(thresholds, precision[0:threshold_boundary], linestyle='--', label='precision')\n",
    "    plt.plot(thresholds, recalls[0:threshold_boundary], label='recall')\n",
    "    \n",
    "    # threshold 값 X 축의 Scale을 0.1 단위로 변경\n",
    "    start, end = plt.xlim()\n",
    "    plt.xticks(np.round(np.arange(start, end, 0.1), 2))\n",
    "    \n",
    "    # x축, y축 label과 legend, 그리고 grid 설정\n",
    "    plt.xlabel('Threshold value'); plt.ylabel('Precision and Recall value')\n",
    "    plt.legend(); plt.grid()\n",
    "    plt.show()\n",
    "    \n",
    "precision_recall_curve_plot( y_test, lr_clf.predict_proba(X_test)[:, 1])"
   ]
  },
  {
   "cell_type": "markdown",
   "id": "5a277078",
   "metadata": {},
   "source": [
    "# F1 score"
   ]
  },
  {
   "cell_type": "code",
   "execution_count": 16,
   "id": "2b833cb2",
   "metadata": {
    "ExecuteTime": {
     "end_time": "2022-04-22T15:55:24.294602Z",
     "start_time": "2022-04-22T15:55:24.279713Z"
    }
   },
   "outputs": [
    {
     "name": "stdout",
     "output_type": "stream",
     "text": [
      "F1 Score :  0.7966\n"
     ]
    }
   ],
   "source": [
    "# 위에서 구한 pred를 이용해서 f1 score의 값을 구해봅니다.\n",
    "\n",
    "from sklearn.metrics import f1_score\n",
    "f1 = f1_score(y_test, pred)\n",
    "print(\"F1 Score : {0: 0.4f}\".format(f1))"
   ]
  },
  {
   "cell_type": "code",
   "execution_count": 17,
   "id": "2fa8884b",
   "metadata": {
    "ExecuteTime": {
     "end_time": "2022-04-22T15:55:24.309796Z",
     "start_time": "2022-04-22T15:55:24.295657Z"
    }
   },
   "outputs": [],
   "source": [
    "# 위에서 분류평가지표를 동시에 구해주는 get_clf_eval()에 f1 score를 추가합니다.\n",
    "\n",
    "def get_clf_eval(y_test, pred):\n",
    "    confusion = confusion_matrix(y_test, pred)\n",
    "    accuracy = accuracy_score(y_test, pred)\n",
    "    precision = precision_score(y_test, pred)\n",
    "    recall = recall_score(y_test, pred)\n",
    "    f1 = f1_score(y_test, pred)  # f1 스코어 추가\n",
    "    print('Confusion Matrix')\n",
    "    print(confusion)\n",
    "    print(\"정확도: {0: 0.4f}, 정밀도: {1: 0.4f}, 재현율: {2: 0.4f}, f1 socre:{3: 0.4f}\".format(accuracy, precision, recall, f1))"
   ]
  },
  {
   "cell_type": "code",
   "execution_count": 18,
   "id": "1e08c882",
   "metadata": {
    "ExecuteTime": {
     "end_time": "2022-04-22T15:55:24.340284Z",
     "start_time": "2022-04-22T15:55:24.310774Z"
    }
   },
   "outputs": [
    {
     "name": "stdout",
     "output_type": "stream",
     "text": [
      "임곗값: 0.4\n",
      "Confusion Matrix\n",
      "[[97 21]\n",
      " [11 50]]\n",
      "정확도:  0.8212, 정밀도:  0.7042, 재현율:  0.8197, f1 socre: 0.7576\n",
      " \n",
      "임곗값: 0.45\n",
      "Confusion Matrix\n",
      "[[105  13]\n",
      " [ 13  48]]\n",
      "정확도:  0.8547, 정밀도:  0.7869, 재현율:  0.7869, f1 socre: 0.7869\n",
      " \n",
      "임곗값: 0.5\n",
      "Confusion Matrix\n",
      "[[108  10]\n",
      " [ 14  47]]\n",
      "정확도:  0.8659, 정밀도:  0.8246, 재현율:  0.7705, f1 socre: 0.7966\n",
      " \n",
      "임곗값: 0.55\n",
      "Confusion Matrix\n",
      "[[111   7]\n",
      " [ 16  45]]\n",
      "정확도:  0.8715, 정밀도:  0.8654, 재현율:  0.7377, f1 socre: 0.7965\n",
      " \n",
      "임곗값: 0.6\n",
      "Confusion Matrix\n",
      "[[113   5]\n",
      " [ 17  44]]\n",
      "정확도:  0.8771, 정밀도:  0.8980, 재현율:  0.7213, f1 socre: 0.8000\n",
      " \n"
     ]
    }
   ],
   "source": [
    "thresholds = [0.4 , 0.45 , 0.50 , 0.55 , 0.60]\n",
    "pred_proba = lr_clf.predict_proba(X_test)\n",
    "get_eval_by_threshold(y_test, pred_proba[:,1].reshape(-1,1), thresholds)"
   ]
  },
  {
   "cell_type": "markdown",
   "id": "db287109",
   "metadata": {},
   "source": [
    "# ROC 커브와 AUC 스코어"
   ]
  },
  {
   "cell_type": "code",
   "execution_count": 19,
   "id": "76750637",
   "metadata": {
    "ExecuteTime": {
     "end_time": "2022-04-22T15:55:24.356025Z",
     "start_time": "2022-04-22T15:55:24.341200Z"
    }
   },
   "outputs": [
    {
     "name": "stdout",
     "output_type": "stream",
     "text": [
      "샘플 추출을 위한 임곗값 배열의 index: [ 1  6 11 16 21 26 31 36 41 46]\n",
      "샘플 index로 추출한 임곗값:  [0.94 0.73 0.62 0.52 0.44 0.28 0.15 0.14 0.13 0.12]\n",
      "샘플 임곗값별 FPR:  [0.    0.008 0.025 0.076 0.127 0.254 0.576 0.61  0.746 0.847]\n",
      "샘플 임곗값별 TPR:  [0.016 0.492 0.705 0.738 0.803 0.885 0.902 0.951 0.967 1.   ]\n"
     ]
    }
   ],
   "source": [
    "from sklearn.metrics import roc_curve\n",
    "\n",
    "# 레이블 값이 1일때의 예측 확률을 추출 \n",
    "pred_proba_class1 = lr_clf.predict_proba(X_test)[:, 1]\n",
    "\n",
    "fprs, tprs, thresholds = roc_curve(y_test, pred_proba_class1)\n",
    "\n",
    "# 반환된 임곗값 배열에서 샘플로 데이터를 추출하되, 임곗값을 5 Step으로 추출. \n",
    "# thresholds[0]은 max(예측확률)+1로 임의 설정됨. 이를 제외하기 위해 np.arange는 1부터 시작\n",
    "thr_index = np.arange(1, thresholds.shape[0], 5)\n",
    "print('샘플 추출을 위한 임곗값 배열의 index:', thr_index)\n",
    "print('샘플 index로 추출한 임곗값: ', np.round(thresholds[thr_index], 2))\n",
    "\n",
    "# 5 step 단위로 추출된 임계값에 따른 FPR, TPR 값\n",
    "print('샘플 임곗값별 FPR: ', np.round(fprs[thr_index], 3))\n",
    "print('샘플 임곗값별 TPR: ', np.round(tprs[thr_index], 3))"
   ]
  },
  {
   "cell_type": "code",
   "execution_count": 20,
   "id": "435ca4ec",
   "metadata": {
    "ExecuteTime": {
     "end_time": "2022-04-22T15:55:24.371493Z",
     "start_time": "2022-04-22T15:55:24.357404Z"
    }
   },
   "outputs": [
    {
     "data": {
      "text/plain": [
       "array([1.94326279, 0.94326279, 0.94040085, 0.93261004, 0.87778554])"
      ]
     },
     "execution_count": 20,
     "metadata": {},
     "output_type": "execute_result"
    }
   ],
   "source": [
    "thresholds[:5]"
   ]
  },
  {
   "cell_type": "code",
   "execution_count": 21,
   "id": "182e2e37",
   "metadata": {
    "ExecuteTime": {
     "end_time": "2022-04-22T15:55:24.466625Z",
     "start_time": "2022-04-22T15:55:24.372658Z"
    }
   },
   "outputs": [
    {
     "data": {
      "image/png": "[encoded data removed]",
      "text/plain": [
       "<Figure size 432x288 with 1 Axes>"
      ]
     },
     "metadata": {
      "needs_background": "light"
     },
     "output_type": "display_data"
    }
   ],
   "source": [
    "def roc_curve_plot(y_test , pred_proba_c1):\n",
    "    # 임곗값에 따른 FPR, TPR 값을 반환 받음. \n",
    "    fprs , tprs , thresholds = roc_curve(y_test ,pred_proba_c1)\n",
    "\n",
    "    # ROC Curve를 plot 곡선으로 그림. \n",
    "    plt.plot(fprs , tprs, label='ROC')\n",
    "    # 가운데 대각선 직선을 그림. \n",
    "    plt.plot([0, 1], [0, 1], 'k--', label='Random')\n",
    "    \n",
    "    # FPR X 축의 Scale을 0.1 단위로 변경, X,Y 축명 설정등   \n",
    "    start, end = plt.xlim()\n",
    "    plt.xticks(np.round(np.arange(start, end, 0.1),2))\n",
    "    plt.xlim(0,1); plt.ylim(0,1)\n",
    "    plt.xlabel('FPR( 1 - Sensitivity )'); plt.ylabel('TPR( Recall )')\n",
    "    plt.legend()\n",
    "    plt.show()\n",
    "    \n",
    "roc_curve_plot(y_test, lr_clf.predict_proba(X_test)[:, 1] )"
   ]
  },
  {
   "cell_type": "code",
   "execution_count": 22,
   "id": "7bf81428",
   "metadata": {
    "ExecuteTime": {
     "end_time": "2022-04-22T15:55:24.481937Z",
     "start_time": "2022-04-22T15:55:24.467959Z"
    }
   },
   "outputs": [
    {
     "name": "stdout",
     "output_type": "stream",
     "text": [
      "AUC 값 : 0.8987\n"
     ]
    }
   ],
   "source": [
    "from sklearn.metrics import roc_auc_score\n",
    "\n",
    "pred_proba = lr_clf.predict_proba(X_test)[:, 1]\n",
    "roc_score = roc_auc_score(y_test, pred_proba)\n",
    "print(\"AUC 값 : {0:0.4f}\".format(roc_score))"
   ]
  },
  {
   "cell_type": "code",
   "execution_count": 27,
   "id": "b427b6f1",
   "metadata": {
    "ExecuteTime": {
     "end_time": "2022-04-22T15:58:28.340477Z",
     "start_time": "2022-04-22T15:58:28.325384Z"
    }
   },
   "outputs": [],
   "source": [
    "# 위에서 분류평가지표를 동시에 구해주는 get_clf_eval()에 AUC 스코어를 추가합니다.\n",
    "\n",
    "def get_clf_eval(y_test, pred=None, pred_proba=None):\n",
    "    confusion = confusion_matrix(y_test, pred)\n",
    "    accuracy = accuracy_score(y_test, pred)\n",
    "    precision = precision_score(y_test, pred)\n",
    "    recall = recall_score(y_test, pred)\n",
    "    f1 = f1_score(y_test, pred)  \n",
    "    roc_auc = roc_auc_score(y_test, pred_proba)\n",
    "    print(\"정확도: {0: 0.4f}, 정밀도: {1: 0.4f}, 재현율: {2: 0.4f}, f1 socre:{3: 0.4f}, AUC{4:0.4f}\".format(accuracy, precision, recall, f1,roc_auc))"
   ]
  },
  {
   "cell_type": "code",
   "execution_count": null,
   "id": "925d59d9",
   "metadata": {},
   "outputs": [],
   "source": []
  }
 ],
 "metadata": {
  "kernelspec": {
   "display_name": "Python 3 (ipykernel)",
   "language": "python",
   "name": "python3"
  },
  "language_info": {
   "codemirror_mode": {
    "name": "ipython",
    "version": 3
   },
   "file_extension": ".py",
   "mimetype": "text/x-python",
   "name": "python",
   "nbconvert_exporter": "python",
   "pygments_lexer": "ipython3",
   "version": "3.9.7"
  },
  "toc": {
   "base_numbering": 1,
   "nav_menu": {},
   "number_sections": true,
   "sideBar": true,
   "skip_h1_title": false,
   "title_cell": "Table of Contents",
   "title_sidebar": "Contents",
   "toc_cell": false,
   "toc_position": {},
   "toc_section_display": true,
   "toc_window_display": false
  },
  "varInspector": {
   "cols": {
    "lenName": 16,
    "lenType": 16,
    "lenVar": 40
   },
   "kernels_config": {
    "python": {
     "delete_cmd_postfix": "",
     "delete_cmd_prefix": "del ",
     "library": "var_list.py",
     "varRefreshCmd": "print(var_dic_list())"
    },
    "r": {
     "delete_cmd_postfix": ") ",
     "delete_cmd_prefix": "rm(",
     "library": "var_list.r",
     "varRefreshCmd": "cat(var_dic_list()) "
    }
   },
   "types_to_exclude": [
    "module",
    "function",
    "builtin_function_or_method",
    "instance",
    "_Feature"
   ],
   "window_display": false
  }
 },
 "nbformat": 4,
 "nbformat_minor": 5
}
