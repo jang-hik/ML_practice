{
 "cells": [
  {
   "cell_type": "markdown",
   "id": "7e011009",
   "metadata": {},
   "source": [
    "# 베이지안 최적화 개요와 HyperOpt 사용법"
   ]
  },
  {
   "cell_type": "code",
   "execution_count": 1,
   "id": "c40dbd2f",
   "metadata": {
    "ExecuteTime": {
     "end_time": "2022-05-09T12:37:33.232750Z",
     "start_time": "2022-05-09T12:37:32.644683Z"
    }
   },
   "outputs": [
    {
     "name": "stdout",
     "output_type": "stream",
     "text": [
      "0.2.7\n"
     ]
    }
   ],
   "source": [
    "import hyperopt\n",
    "\n",
    "print(hyperopt.__version__)"
   ]
  },
  {
   "cell_type": "code",
   "execution_count": 2,
   "id": "c7bb936f",
   "metadata": {
    "ExecuteTime": {
     "end_time": "2022-05-09T12:37:33.248219Z",
     "start_time": "2022-05-09T12:37:33.234781Z"
    }
   },
   "outputs": [],
   "source": [
    "from hyperopt import hp\n",
    "\n",
    "# -10 ~ 10까지 1간격을 가지는 입력 변수 x 집합값과 -15 ~ 15까지 1간격을 가지는 입력 변수  y 집합값 설정.\n",
    "search_space = {'x' : hp.quniform('x', -10, 10, 1), 'y':hp.quniform('y', -15, 15, 1)}"
   ]
  },
  {
   "cell_type": "code",
   "execution_count": 3,
   "id": "f6712229",
   "metadata": {
    "ExecuteTime": {
     "end_time": "2022-05-09T12:37:33.264030Z",
     "start_time": "2022-05-09T12:37:33.248926Z"
    }
   },
   "outputs": [
    {
     "data": {
      "text/plain": [
       "{'x': <hyperopt.pyll.base.Apply at 0x1ce007a6b20>,\n",
       " 'y': <hyperopt.pyll.base.Apply at 0x1ce7deaa700>}"
      ]
     },
     "execution_count": 3,
     "metadata": {},
     "output_type": "execute_result"
    }
   ],
   "source": [
    "search_space\n",
    "# x, y는 객체로 되어 있음"
   ]
  },
  {
   "cell_type": "code",
   "execution_count": 4,
   "id": "60f895b2",
   "metadata": {
    "ExecuteTime": {
     "end_time": "2022-05-09T12:37:33.279607Z",
     "start_time": "2022-05-09T12:37:33.265052Z"
    }
   },
   "outputs": [
    {
     "data": {
      "text/plain": [
       "<hyperopt.pyll.base.Apply at 0x1ce007a6b20>"
      ]
     },
     "execution_count": 4,
     "metadata": {},
     "output_type": "execute_result"
    }
   ],
   "source": [
    "search_space['x']"
   ]
  },
  {
   "cell_type": "code",
   "execution_count": 5,
   "id": "18808a38",
   "metadata": {
    "ExecuteTime": {
     "end_time": "2022-05-09T12:37:33.295570Z",
     "start_time": "2022-05-09T12:37:33.280685Z"
    }
   },
   "outputs": [],
   "source": [
    "from hyperopt import STATUS_OK\n",
    "\n",
    "# 목적 함수를 생성. 입력 변수값과 입력 변수 검색 범위를 가지는 딕셔너리를 인자로 받고, 특정 값을 반환\n",
    "def objective_func(search_space):\n",
    "    x = search_space['x']\n",
    "    y = search_space['y']\n",
    "    retval = x**2 - 20*y\n",
    "    \n",
    "    return retval # 권장되는 return 방식 : return {'loss': retval, 'status':STATUS_OK}"
   ]
  },
  {
   "cell_type": "code",
   "execution_count": 6,
   "id": "e8852f49",
   "metadata": {
    "ExecuteTime": {
     "end_time": "2022-05-09T12:37:33.326668Z",
     "start_time": "2022-05-09T12:37:33.296684Z"
    }
   },
   "outputs": [
    {
     "name": "stdout",
     "output_type": "stream",
     "text": [
      "100%|████████████████████████████████████████████████████████████| 5/5 [00:00<00:00, 1000.12trial/s, best loss: -224.0]\n",
      "best: {'x': -4.0, 'y': 12.0}\n"
     ]
    }
   ],
   "source": [
    "# tpe는 \"tree structured parzen estimator\"을 뜻함\n",
    "# 일반적으로 베이지안 최적화는 가우시안 최적화를 사용하지만 hyperopt는 tpe 알고리즘을 사용 \n",
    "from hyperopt import fmin, tpe, Trials\n",
    "import numpy as np\n",
    "\n",
    "# 입력 결괏값을 저장한 Trials 객체값 생성.\n",
    "trial_val = Trials()\n",
    "\n",
    "# 목적 함수의 최솟값을 반환하는 최적 입력 변숫값을 5번의 입력값 시도(max_evals=5)로 찾아냄. 순차적으로 안들어가고 랜덤하게 들어감\n",
    "# algo = tpe.suggest는 이 형태 그대로 들어감\n",
    "# iteration이 돌아갈 때 마다 들어간 입력값과 결과값이 모두 trials에 저장됨\n",
    "# \"rstate=np.random.default_rng(seed=0)\"을 안해주면 값이 고정이 안됨\n",
    "    # 하지만 실제로는 rstate를 안해주는게 결과가 더 좋음. 실제에서는 rstate 사용을 권장하지 않음\n",
    "best_01 = fmin(fn=objective_func, space = search_space, algo = tpe.suggest, \n",
    "              max_evals = 5, trials = trial_val, rstate=np.random.default_rng(seed=0))\n",
    "print('best:', best_01)\n",
    "\n",
    "# \"x = -4, y = 12\"일 때 objeci function은 최소가 됨 "
   ]
  },
  {
   "cell_type": "code",
   "execution_count": 7,
   "id": "0ba77b08",
   "metadata": {
    "ExecuteTime": {
     "end_time": "2022-05-09T12:37:33.357483Z",
     "start_time": "2022-05-09T12:37:33.327984Z"
    }
   },
   "outputs": [
    {
     "name": "stdout",
     "output_type": "stream",
     "text": [
      "100%|██████████████████████████████████████████████████████████| 20/20 [00:00<00:00, 1193.75trial/s, best loss: -296.0]\n",
      "best: {'x': 2.0, 'y': 15.0}\n"
     ]
    }
   ],
   "source": [
    "trial_val = Trials()\n",
    "\n",
    "# max_evals를 20회로 늘려서 재테스트\n",
    "best_02 = fmin(fn = objective_func, space = search_space, algo = tpe.suggest,\n",
    "              max_evals = 20, trials = trial_val, rstate=np.random.default_rng(seed=0))\n",
    "\n",
    "print('best:', best_02)"
   ]
  },
  {
   "cell_type": "code",
   "execution_count": 8,
   "id": "4c7d8ccd",
   "metadata": {
    "ExecuteTime": {
     "end_time": "2022-05-09T12:37:33.373061Z",
     "start_time": "2022-05-09T12:37:33.358624Z"
    }
   },
   "outputs": [
    {
     "data": {
      "text/plain": [
       "<hyperopt.base.Trials at 0x1ce007c8040>"
      ]
     },
     "execution_count": 8,
     "metadata": {},
     "output_type": "execute_result"
    }
   ],
   "source": [
    "trial_val"
   ]
  },
  {
   "cell_type": "code",
   "execution_count": 9,
   "id": "c81222ae",
   "metadata": {
    "ExecuteTime": {
     "end_time": "2022-05-09T12:37:33.388462Z",
     "start_time": "2022-05-09T12:37:33.374069Z"
    }
   },
   "outputs": [
    {
     "name": "stdout",
     "output_type": "stream",
     "text": [
      "<class 'list'>\n",
      "\n",
      "[{'loss': -64.0, 'status': 'ok'}, {'loss': -184.0, 'status': 'ok'}, {'loss': 56.0, 'status': 'ok'}, {'loss': -224.0, 'status': 'ok'}, {'loss': 61.0, 'status': 'ok'}, {'loss': -296.0, 'status': 'ok'}, {'loss': -40.0, 'status': 'ok'}, {'loss': 281.0, 'status': 'ok'}, {'loss': 64.0, 'status': 'ok'}, {'loss': 100.0, 'status': 'ok'}, {'loss': 60.0, 'status': 'ok'}, {'loss': -39.0, 'status': 'ok'}, {'loss': 1.0, 'status': 'ok'}, {'loss': -164.0, 'status': 'ok'}, {'loss': 21.0, 'status': 'ok'}, {'loss': -56.0, 'status': 'ok'}, {'loss': 284.0, 'status': 'ok'}, {'loss': 176.0, 'status': 'ok'}, {'loss': -171.0, 'status': 'ok'}, {'loss': 0.0, 'status': 'ok'}]\n"
     ]
    }
   ],
   "source": [
    "# fmin( )에 인자로 들어가는 Trials 객체의 result 속성에 파이썬 리스트로 목적 함수 반환값들이 저장됨\n",
    "# 리스트 내부의 개별 원소는 {'loss':함수 반환값, 'status':반환 상태값} 와 같은 딕셔너리임. \n",
    "print(type(trial_val.results))\n",
    "print(\"\")\n",
    "print(trial_val.results)"
   ]
  },
  {
   "cell_type": "code",
   "execution_count": 10,
   "id": "e3f258ae",
   "metadata": {
    "ExecuteTime": {
     "end_time": "2022-05-09T12:37:33.403751Z",
     "start_time": "2022-05-09T12:37:33.390481Z"
    }
   },
   "outputs": [
    {
     "name": "stdout",
     "output_type": "stream",
     "text": [
      "<class 'dict'>\n",
      "\n",
      "{'x': [-6.0, -4.0, 4.0, -4.0, 9.0, 2.0, 10.0, -9.0, -8.0, -0.0, -0.0, 1.0, 9.0, 6.0, 9.0, 2.0, -2.0, -4.0, 7.0, -0.0], 'y': [5.0, 10.0, -2.0, 12.0, 1.0, 15.0, 7.0, -10.0, 0.0, -5.0, -3.0, 2.0, 4.0, 10.0, 3.0, 3.0, -14.0, -8.0, 11.0, -0.0]}\n"
     ]
    }
   ],
   "source": [
    "# Trials 객체의 vals 속성에 {'입력변수명':개별 수행 시마다 입력된 값 리스트} 형태로 저장됨\n",
    "print(type(trial_val.vals))\n",
    "print(\"\")\n",
    "print(trial_val.vals)"
   ]
  },
  {
   "cell_type": "code",
   "execution_count": 11,
   "id": "b8494739",
   "metadata": {
    "ExecuteTime": {
     "end_time": "2022-05-09T12:37:33.685590Z",
     "start_time": "2022-05-09T12:37:33.405175Z"
    }
   },
   "outputs": [
    {
     "name": "stdout",
     "output_type": "stream",
     "text": [
      "[-64.0, -184.0, 56.0, -224.0, 61.0, -296.0, -40.0, 281.0, 64.0, 100.0, 60.0, -39.0, 1.0, -164.0, 21.0, -56.0, 284.0, 176.0, -171.0, 0.0]\n"
     ]
    }
   ],
   "source": [
    "import pandas as pd \n",
    "\n",
    "# results에서 loss 키값에 해당하는 밸류들을 추출하여 list로 생성. \n",
    "losses = [loss_dict['loss'] for loss_dict in trial_val.results]\n",
    "print(losses)"
   ]
  },
  {
   "cell_type": "code",
   "execution_count": 12,
   "id": "7fb9d6aa",
   "metadata": {
    "ExecuteTime": {
     "end_time": "2022-05-09T12:37:33.701523Z",
     "start_time": "2022-05-09T12:37:33.686785Z"
    }
   },
   "outputs": [
    {
     "data": {
      "text/html": [
       "<div>\n",
       "<style scoped>\n",
       "    .dataframe tbody tr th:only-of-type {\n",
       "        vertical-align: middle;\n",
       "    }\n",
       "\n",
       "    .dataframe tbody tr th {\n",
       "        vertical-align: top;\n",
       "    }\n",
       "\n",
       "    .dataframe thead th {\n",
       "        text-align: right;\n",
       "    }\n",
       "</style>\n",
       "<table border=\"1\" class=\"dataframe\">\n",
       "  <thead>\n",
       "    <tr style=\"text-align: right;\">\n",
       "      <th></th>\n",
       "      <th>x</th>\n",
       "      <th>y</th>\n",
       "      <th>losses</th>\n",
       "    </tr>\n",
       "  </thead>\n",
       "  <tbody>\n",
       "    <tr>\n",
       "      <th>0</th>\n",
       "      <td>-6.0</td>\n",
       "      <td>5.0</td>\n",
       "      <td>-64.0</td>\n",
       "    </tr>\n",
       "    <tr>\n",
       "      <th>1</th>\n",
       "      <td>-4.0</td>\n",
       "      <td>10.0</td>\n",
       "      <td>-184.0</td>\n",
       "    </tr>\n",
       "    <tr>\n",
       "      <th>2</th>\n",
       "      <td>4.0</td>\n",
       "      <td>-2.0</td>\n",
       "      <td>56.0</td>\n",
       "    </tr>\n",
       "    <tr>\n",
       "      <th>3</th>\n",
       "      <td>-4.0</td>\n",
       "      <td>12.0</td>\n",
       "      <td>-224.0</td>\n",
       "    </tr>\n",
       "    <tr>\n",
       "      <th>4</th>\n",
       "      <td>9.0</td>\n",
       "      <td>1.0</td>\n",
       "      <td>61.0</td>\n",
       "    </tr>\n",
       "    <tr>\n",
       "      <th>5</th>\n",
       "      <td>2.0</td>\n",
       "      <td>15.0</td>\n",
       "      <td>-296.0</td>\n",
       "    </tr>\n",
       "    <tr>\n",
       "      <th>6</th>\n",
       "      <td>10.0</td>\n",
       "      <td>7.0</td>\n",
       "      <td>-40.0</td>\n",
       "    </tr>\n",
       "    <tr>\n",
       "      <th>7</th>\n",
       "      <td>-9.0</td>\n",
       "      <td>-10.0</td>\n",
       "      <td>281.0</td>\n",
       "    </tr>\n",
       "    <tr>\n",
       "      <th>8</th>\n",
       "      <td>-8.0</td>\n",
       "      <td>0.0</td>\n",
       "      <td>64.0</td>\n",
       "    </tr>\n",
       "    <tr>\n",
       "      <th>9</th>\n",
       "      <td>-0.0</td>\n",
       "      <td>-5.0</td>\n",
       "      <td>100.0</td>\n",
       "    </tr>\n",
       "    <tr>\n",
       "      <th>10</th>\n",
       "      <td>-0.0</td>\n",
       "      <td>-3.0</td>\n",
       "      <td>60.0</td>\n",
       "    </tr>\n",
       "    <tr>\n",
       "      <th>11</th>\n",
       "      <td>1.0</td>\n",
       "      <td>2.0</td>\n",
       "      <td>-39.0</td>\n",
       "    </tr>\n",
       "    <tr>\n",
       "      <th>12</th>\n",
       "      <td>9.0</td>\n",
       "      <td>4.0</td>\n",
       "      <td>1.0</td>\n",
       "    </tr>\n",
       "    <tr>\n",
       "      <th>13</th>\n",
       "      <td>6.0</td>\n",
       "      <td>10.0</td>\n",
       "      <td>-164.0</td>\n",
       "    </tr>\n",
       "    <tr>\n",
       "      <th>14</th>\n",
       "      <td>9.0</td>\n",
       "      <td>3.0</td>\n",
       "      <td>21.0</td>\n",
       "    </tr>\n",
       "    <tr>\n",
       "      <th>15</th>\n",
       "      <td>2.0</td>\n",
       "      <td>3.0</td>\n",
       "      <td>-56.0</td>\n",
       "    </tr>\n",
       "    <tr>\n",
       "      <th>16</th>\n",
       "      <td>-2.0</td>\n",
       "      <td>-14.0</td>\n",
       "      <td>284.0</td>\n",
       "    </tr>\n",
       "    <tr>\n",
       "      <th>17</th>\n",
       "      <td>-4.0</td>\n",
       "      <td>-8.0</td>\n",
       "      <td>176.0</td>\n",
       "    </tr>\n",
       "    <tr>\n",
       "      <th>18</th>\n",
       "      <td>7.0</td>\n",
       "      <td>11.0</td>\n",
       "      <td>-171.0</td>\n",
       "    </tr>\n",
       "    <tr>\n",
       "      <th>19</th>\n",
       "      <td>-0.0</td>\n",
       "      <td>-0.0</td>\n",
       "      <td>0.0</td>\n",
       "    </tr>\n",
       "  </tbody>\n",
       "</table>\n",
       "</div>"
      ],
      "text/plain": [
       "       x     y  losses\n",
       "0   -6.0   5.0   -64.0\n",
       "1   -4.0  10.0  -184.0\n",
       "2    4.0  -2.0    56.0\n",
       "3   -4.0  12.0  -224.0\n",
       "4    9.0   1.0    61.0\n",
       "5    2.0  15.0  -296.0\n",
       "6   10.0   7.0   -40.0\n",
       "7   -9.0 -10.0   281.0\n",
       "8   -8.0   0.0    64.0\n",
       "9   -0.0  -5.0   100.0\n",
       "10  -0.0  -3.0    60.0\n",
       "11   1.0   2.0   -39.0\n",
       "12   9.0   4.0     1.0\n",
       "13   6.0  10.0  -164.0\n",
       "14   9.0   3.0    21.0\n",
       "15   2.0   3.0   -56.0\n",
       "16  -2.0 -14.0   284.0\n",
       "17  -4.0  -8.0   176.0\n",
       "18   7.0  11.0  -171.0\n",
       "19  -0.0  -0.0     0.0"
      ]
     },
     "execution_count": 12,
     "metadata": {},
     "output_type": "execute_result"
    }
   ],
   "source": [
    "# DataFrame으로 생성. \n",
    "result_df = pd.DataFrame({'x' : trial_val.vals['x'],\n",
    "                         'y' : trial_val.vals['y'],\n",
    "                         'losses' : losses})\n",
    "result_df"
   ]
  },
  {
   "cell_type": "markdown",
   "id": "63cd72ab",
   "metadata": {},
   "source": [
    " # HyperOpt를 XGBoost 하이퍼 파라미터 튜닝에 적용"
   ]
  },
  {
   "cell_type": "code",
   "execution_count": 13,
   "id": "82a127da",
   "metadata": {
    "ExecuteTime": {
     "end_time": "2022-05-09T12:37:33.856168Z",
     "start_time": "2022-05-09T12:37:33.702642Z"
    }
   },
   "outputs": [],
   "source": [
    "import pandas as pd\n",
    "import numpy as np\n",
    "from sklearn.datasets import load_breast_cancer\n",
    "from sklearn.model_selection import train_test_split\n",
    "import warnings\n",
    "warnings.filterwarnings('ignore')\n",
    "\n",
    "cancer_df = pd.DataFrame(data = load_breast_cancer().data, columns = load_breast_cancer().feature_names)\n",
    "cancer_df['target'] = load_breast_cancer().target\n",
    "X_features = cancer_df.iloc[:, :-1]\n",
    "y_label = cancer_df.iloc[:, -1]\n",
    "\n",
    "# 전체 데이터 중 80%는 학습용 데이터, 20%는 테스트용 데이터 추출\n",
    "X_train, X_test, y_train, y_test=train_test_split(X_features, y_label,\n",
    "                                         test_size=0.2, random_state=156 )\n",
    "\n",
    "# 학습 데이터를 다시 학습과 검증 데이터로 분리 \n",
    "X_tr, X_val, y_tr, y_val= train_test_split(X_train, y_train,\n",
    "                                         test_size=0.1, random_state=156 )"
   ]
  },
  {
   "cell_type": "code",
   "execution_count": 14,
   "id": "c2a893c9",
   "metadata": {
    "ExecuteTime": {
     "end_time": "2022-05-09T12:37:33.872294Z",
     "start_time": "2022-05-09T12:37:33.857188Z"
    }
   },
   "outputs": [],
   "source": [
    "from hyperopt import hp\n",
    "\n",
    "# max_depth는 5에서 20까지 1간격으로, min_child_weight는 1에서 2까지 1간격으로\n",
    "# colsample_bytree는 0.5에서 1사이, learning_rate는 0.01에서 0.2사이 정규 분포된 값으로 검색. \n",
    "\n",
    "xgb_search_space = {'max_depth' : hp.quniform('max_depth', 5, 20, 1),\n",
    "                   'min_child_weight' : hp.quniform('min_child_weight', 1, 2, 1),\n",
    "                   'learning_rate' : hp.uniform('learnig_rate', 0.01, 0.2),\n",
    "                    'colsample_bytree' : hp.uniform('colsample_bytree', 0.5 ,1)\n",
    "                   }"
   ]
  },
  {
   "cell_type": "code",
   "execution_count": 15,
   "id": "2baa6ed6",
   "metadata": {
    "ExecuteTime": {
     "end_time": "2022-05-09T12:37:33.904074Z",
     "start_time": "2022-05-09T12:37:33.873200Z"
    }
   },
   "outputs": [],
   "source": [
    "from sklearn.model_selection import cross_val_score\n",
    "from xgboost import XGBClassifier\n",
    "from hyperopt import STATUS_OK\n",
    "\n",
    "# fmin()에서 입력된 search_space값으로 입력된 모든 값은 실수형임. \n",
    "# XGBClassifier의 정수형 하이퍼 파라미터는 정수형 변환을 해줘야 함. \n",
    "# 정확도는 높은 수록 더 좋은 수치임. -1* 정확도를 곱해서 큰 정확도 값일 수록 최소가 되도록 변환\n",
    "\n",
    "def objective_func(search_space):\n",
    "    xgb_clf = XGBClassifier(n_estimators = 100, max_depth = int(search_space['max_depth']),\n",
    "                           min_child_weight = int(search_space['min_child_weight']),\n",
    "                           learning_rate = search_space['learning_rate'],\n",
    "                           colsample_bytree = search_space['colsample_bytree'],\n",
    "                           eval_metric='logloss')\n",
    "    \n",
    "    accuracy = cross_val_score(xgb_clf, X_train, y_train, scoring='accuracy', cv=3)\n",
    "    \n",
    "    # accuracy는 cv=3 개수만큼의 정확도 결과를 가지므로 이를 평균해서 반환하되 -1을 곱해줌.\n",
    "    return {'loss' : -1*np.mean(accuracy), 'status' : STATUS_OK}"
   ]
  },
  {
   "cell_type": "code",
   "execution_count": 16,
   "id": "a36a63e0",
   "metadata": {
    "ExecuteTime": {
     "end_time": "2022-05-09T12:37:41.861061Z",
     "start_time": "2022-05-09T12:37:33.905192Z"
    }
   },
   "outputs": [
    {
     "name": "stdout",
     "output_type": "stream",
     "text": [
      "100%|███████████████████████████████████████████████| 50/50 [00:07<00:00,  6.30trial/s, best loss: -0.9670616939700244]\n",
      "best : {'colsample_bytree': 0.5424149213362504, 'learnig_rate': 0.12601372924444681, 'max_depth': 17.0, 'min_child_weight': 2.0}\n"
     ]
    }
   ],
   "source": [
    "from hyperopt import fmin, tpe, Trials\n",
    "\n",
    "trial_val = Trials()\n",
    "best = fmin(fn=objective_func,\n",
    "           space = xgb_search_space,\n",
    "           algo = tpe.suggest, # \"algo = tpe.suggest\"는 고정입니다.\n",
    "           max_evals = 50, # max_evals : 최대 반복 횟수를 지정합니다.\n",
    "           trials = trial_val, rstate = np.random.default_rng(seed = 9))\n",
    "print('best :', best)\n",
    "\n",
    "# best loss: -0.9670616939700244 : 정확도가 0.96\n",
    "# 최소 loss일 때의 하이퍼 파라미터들을 보여줍니다."
   ]
  },
  {
   "cell_type": "code",
   "execution_count": 17,
   "id": "75fcd622",
   "metadata": {
    "ExecuteTime": {
     "end_time": "2022-05-09T12:37:41.876433Z",
     "start_time": "2022-05-09T12:37:41.862572Z"
    }
   },
   "outputs": [
    {
     "data": {
      "text/plain": [
       "{'colsample_bytree': 0.5424149213362504,\n",
       " 'learnig_rate': 0.12601372924444681,\n",
       " 'max_depth': 17.0,\n",
       " 'min_child_weight': 2.0}"
      ]
     },
     "execution_count": 17,
     "metadata": {},
     "output_type": "execute_result"
    }
   ],
   "source": [
    "# 반환된 best 객체는 dictionary입니다.\n",
    "best"
   ]
  },
  {
   "cell_type": "code",
   "execution_count": 18,
   "id": "00a1e38d",
   "metadata": {
    "ExecuteTime": {
     "end_time": "2022-05-09T12:37:41.891885Z",
     "start_time": "2022-05-09T12:37:41.877941Z"
    }
   },
   "outputs": [],
   "source": [
    "from sklearn.metrics import confusion_matrix, accuracy_score\n",
    "from sklearn.metrics import precision_score, recall_score\n",
    "from sklearn.metrics import f1_score, roc_auc_score\n",
    "\n",
    "def get_clf_eval(y_test, pred=None, pred_proba=None):\n",
    "    confusion = confusion_matrix( y_test, pred)\n",
    "    accuracy = accuracy_score(y_test , pred)\n",
    "    precision = precision_score(y_test , pred)\n",
    "    recall = recall_score(y_test , pred)\n",
    "    f1 = f1_score(y_test,pred)\n",
    "    # ROC-AUC 추가 \n",
    "    roc_auc = roc_auc_score(y_test, pred_proba)\n",
    "    print('오차 행렬')\n",
    "    print(confusion)\n",
    "    # ROC-AUC print 추가\n",
    "    print('정확도: {0:.4f}, 정밀도: {1:.4f}, 재현율: {2:.4f},\\\n",
    "    F1: {3:.4f}, AUC:{4:.4f}'.format(accuracy, precision, recall, f1, roc_auc))"
   ]
  },
  {
   "cell_type": "code",
   "execution_count": 19,
   "id": "deaa7153",
   "metadata": {
    "ExecuteTime": {
     "end_time": "2022-05-09T12:37:41.907080Z",
     "start_time": "2022-05-09T12:37:41.894561Z"
    }
   },
   "outputs": [],
   "source": [
    "xgb_wrapper = XGBClassifier(n_estimators = 400, learning_rate = round(best['learnig_rate'], 5),\n",
    "                           max_depth = int(best['max_depth']),\n",
    "                           min_child_weight = int(best['min_child_weight']),\n",
    "                           colsamplt_bytree = round(best['colsample_bytree'], 5)\n",
    "                           )"
   ]
  },
  {
   "cell_type": "code",
   "execution_count": 20,
   "id": "b6bb7d01",
   "metadata": {
    "ExecuteTime": {
     "end_time": "2022-05-09T12:37:42.061980Z",
     "start_time": "2022-05-09T12:37:41.908430Z"
    }
   },
   "outputs": [
    {
     "name": "stdout",
     "output_type": "stream",
     "text": [
      "[21:37:41] WARNING: D:\\bld\\xgboost-split_1645118015404\\work\\src\\learner.cc:576: \n",
      "Parameters: { \"colsamplt_bytree\" } might not be used.\n",
      "\n",
      "  This could be a false alarm, with some parameters getting used by language bindings but\n",
      "  then being mistakenly passed down to XGBoost core, or some parameter actually being used\n",
      "  but getting flagged wrongly here. Please open an issue if you find any such cases.\n",
      "\n",
      "\n",
      "[0]\tvalidation_0-logloss:0.59003\tvalidation_1-logloss:0.62146\n",
      "[1]\tvalidation_0-logloss:0.50919\tvalidation_1-logloss:0.56750\n",
      "[2]\tvalidation_0-logloss:0.44256\tvalidation_1-logloss:0.51487\n",
      "[3]\tvalidation_0-logloss:0.38849\tvalidation_1-logloss:0.48449\n",
      "[4]\tvalidation_0-logloss:0.34293\tvalidation_1-logloss:0.44620\n",
      "[5]\tvalidation_0-logloss:0.30368\tvalidation_1-logloss:0.41606\n",
      "[6]\tvalidation_0-logloss:0.27108\tvalidation_1-logloss:0.38899\n",
      "[7]\tvalidation_0-logloss:0.24259\tvalidation_1-logloss:0.36614\n",
      "[8]\tvalidation_0-logloss:0.21929\tvalidation_1-logloss:0.35055\n",
      "[9]\tvalidation_0-logloss:0.19740\tvalidation_1-logloss:0.33662\n",
      "[10]\tvalidation_0-logloss:0.17946\tvalidation_1-logloss:0.32383\n",
      "[11]\tvalidation_0-logloss:0.16281\tvalidation_1-logloss:0.31202\n",
      "[12]\tvalidation_0-logloss:0.14843\tvalidation_1-logloss:0.30130\n",
      "[13]\tvalidation_0-logloss:0.13625\tvalidation_1-logloss:0.29519\n",
      "[14]\tvalidation_0-logloss:0.12533\tvalidation_1-logloss:0.28977\n",
      "[15]\tvalidation_0-logloss:0.11636\tvalidation_1-logloss:0.28392\n",
      "[16]\tvalidation_0-logloss:0.10731\tvalidation_1-logloss:0.27999\n",
      "[17]\tvalidation_0-logloss:0.09977\tvalidation_1-logloss:0.27967\n",
      "[18]\tvalidation_0-logloss:0.09276\tvalidation_1-logloss:0.27806\n",
      "[19]\tvalidation_0-logloss:0.08710\tvalidation_1-logloss:0.27960\n",
      "[20]\tvalidation_0-logloss:0.08017\tvalidation_1-logloss:0.27595\n",
      "[21]\tvalidation_0-logloss:0.07419\tvalidation_1-logloss:0.27351\n",
      "[22]\tvalidation_0-logloss:0.07017\tvalidation_1-logloss:0.27328\n",
      "[23]\tvalidation_0-logloss:0.06648\tvalidation_1-logloss:0.27123\n",
      "[24]\tvalidation_0-logloss:0.06315\tvalidation_1-logloss:0.27082\n",
      "[25]\tvalidation_0-logloss:0.05919\tvalidation_1-logloss:0.27157\n",
      "[26]\tvalidation_0-logloss:0.05579\tvalidation_1-logloss:0.26783\n",
      "[27]\tvalidation_0-logloss:0.05267\tvalidation_1-logloss:0.26955\n",
      "[28]\tvalidation_0-logloss:0.05027\tvalidation_1-logloss:0.26811\n",
      "[29]\tvalidation_0-logloss:0.04827\tvalidation_1-logloss:0.26861\n",
      "[30]\tvalidation_0-logloss:0.04550\tvalidation_1-logloss:0.26834\n",
      "[31]\tvalidation_0-logloss:0.04341\tvalidation_1-logloss:0.27171\n",
      "[32]\tvalidation_0-logloss:0.04136\tvalidation_1-logloss:0.26913\n",
      "[33]\tvalidation_0-logloss:0.03975\tvalidation_1-logloss:0.26991\n",
      "[34]\tvalidation_0-logloss:0.03785\tvalidation_1-logloss:0.27081\n",
      "[35]\tvalidation_0-logloss:0.03651\tvalidation_1-logloss:0.27059\n",
      "[36]\tvalidation_0-logloss:0.03538\tvalidation_1-logloss:0.27489\n",
      "[37]\tvalidation_0-logloss:0.03402\tvalidation_1-logloss:0.27810\n",
      "[38]\tvalidation_0-logloss:0.03282\tvalidation_1-logloss:0.27879\n",
      "[39]\tvalidation_0-logloss:0.03177\tvalidation_1-logloss:0.27778\n",
      "[40]\tvalidation_0-logloss:0.03052\tvalidation_1-logloss:0.27924\n",
      "[41]\tvalidation_0-logloss:0.02961\tvalidation_1-logloss:0.27864\n",
      "[42]\tvalidation_0-logloss:0.02876\tvalidation_1-logloss:0.27946\n",
      "[43]\tvalidation_0-logloss:0.02784\tvalidation_1-logloss:0.28277\n",
      "[44]\tvalidation_0-logloss:0.02725\tvalidation_1-logloss:0.27835\n",
      "[45]\tvalidation_0-logloss:0.02658\tvalidation_1-logloss:0.27908\n",
      "[46]\tvalidation_0-logloss:0.02607\tvalidation_1-logloss:0.27600\n",
      "[47]\tvalidation_0-logloss:0.02561\tvalidation_1-logloss:0.27802\n",
      "[48]\tvalidation_0-logloss:0.02511\tvalidation_1-logloss:0.27861\n",
      "[49]\tvalidation_0-logloss:0.02468\tvalidation_1-logloss:0.27698\n",
      "[50]\tvalidation_0-logloss:0.02431\tvalidation_1-logloss:0.27543\n",
      "[51]\tvalidation_0-logloss:0.02387\tvalidation_1-logloss:0.27653\n",
      "[52]\tvalidation_0-logloss:0.02352\tvalidation_1-logloss:0.27489\n",
      "[53]\tvalidation_0-logloss:0.02302\tvalidation_1-logloss:0.27179\n",
      "[54]\tvalidation_0-logloss:0.02266\tvalidation_1-logloss:0.27030\n",
      "[55]\tvalidation_0-logloss:0.02229\tvalidation_1-logloss:0.27090\n",
      "[56]\tvalidation_0-logloss:0.02191\tvalidation_1-logloss:0.27155\n",
      "[57]\tvalidation_0-logloss:0.02175\tvalidation_1-logloss:0.27341\n",
      "[58]\tvalidation_0-logloss:0.02159\tvalidation_1-logloss:0.27212\n",
      "[59]\tvalidation_0-logloss:0.02144\tvalidation_1-logloss:0.27218\n",
      "[60]\tvalidation_0-logloss:0.02130\tvalidation_1-logloss:0.27399\n",
      "[61]\tvalidation_0-logloss:0.02102\tvalidation_1-logloss:0.27467\n",
      "[62]\tvalidation_0-logloss:0.02088\tvalidation_1-logloss:0.27430\n",
      "[63]\tvalidation_0-logloss:0.02075\tvalidation_1-logloss:0.27308\n",
      "[64]\tvalidation_0-logloss:0.02061\tvalidation_1-logloss:0.27491\n",
      "[65]\tvalidation_0-logloss:0.02049\tvalidation_1-logloss:0.27378\n",
      "[66]\tvalidation_0-logloss:0.02036\tvalidation_1-logloss:0.27551\n",
      "[67]\tvalidation_0-logloss:0.02024\tvalidation_1-logloss:0.27517\n",
      "[68]\tvalidation_0-logloss:0.01989\tvalidation_1-logloss:0.27222\n",
      "[69]\tvalidation_0-logloss:0.01978\tvalidation_1-logloss:0.27226\n",
      "[70]\tvalidation_0-logloss:0.01966\tvalidation_1-logloss:0.27396\n",
      "[71]\tvalidation_0-logloss:0.01955\tvalidation_1-logloss:0.27283\n",
      "[72]\tvalidation_0-logloss:0.01945\tvalidation_1-logloss:0.27444\n",
      "[73]\tvalidation_0-logloss:0.01934\tvalidation_1-logloss:0.27448\n",
      "[74]\tvalidation_0-logloss:0.01924\tvalidation_1-logloss:0.27344\n",
      "[75]\tvalidation_0-logloss:0.01914\tvalidation_1-logloss:0.27344\n"
     ]
    },
    {
     "data": {
      "text/plain": [
       "XGBClassifier(base_score=0.5, booster='gbtree', colsample_bylevel=1,\n",
       "              colsample_bynode=1, colsample_bytree=1, colsamplt_bytree=0.54241,\n",
       "              enable_categorical=False, gamma=0, gpu_id=-1,\n",
       "              importance_type=None, interaction_constraints='',\n",
       "              learning_rate=0.12601, max_delta_step=0, max_depth=17,\n",
       "              min_child_weight=2, missing=nan, monotone_constraints='()',\n",
       "              n_estimators=400, n_jobs=8, num_parallel_tree=1, predictor='auto',\n",
       "              random_state=0, reg_alpha=0, reg_lambda=1, scale_pos_weight=1,\n",
       "              subsample=1, tree_method='exact', validate_parameters=1,\n",
       "              verbosity=None)"
      ]
     },
     "execution_count": 20,
     "metadata": {},
     "output_type": "execute_result"
    }
   ],
   "source": [
    "# evals = [(X_val, y_val)]  : 검증데이터 세트만 넣어줘도 됨\n",
    "\n",
    "evals = [(X_tr, y_tr), (X_val, y_val)]\n",
    "xgb_wrapper.fit(X_tr, y_tr, early_stopping_rounds = 50, eval_metric='logloss',\n",
    "               eval_set = evals, verbose = True)"
   ]
  },
  {
   "cell_type": "code",
   "execution_count": 21,
   "id": "b0ebe4a6",
   "metadata": {
    "ExecuteTime": {
     "end_time": "2022-05-09T12:37:42.092798Z",
     "start_time": "2022-05-09T12:37:42.063492Z"
    }
   },
   "outputs": [
    {
     "name": "stdout",
     "output_type": "stream",
     "text": [
      "오차 행렬\n",
      "[[34  3]\n",
      " [ 3 74]]\n",
      "정확도: 0.9474, 정밀도: 0.9610, 재현율: 0.9610,    F1: 0.9610, AUC:0.9898\n"
     ]
    }
   ],
   "source": [
    "preds = xgb_wrapper.predict(X_test)\n",
    "pred_proba = xgb_wrapper.predict_proba(X_test)[:, 1]\n",
    "\n",
    "get_clf_eval(y_test, preds, pred_proba)"
   ]
  },
  {
   "cell_type": "code",
   "execution_count": 37,
   "id": "b74f1ec9",
   "metadata": {
    "ExecuteTime": {
     "end_time": "2022-05-09T12:50:34.658147Z",
     "start_time": "2022-05-09T12:50:34.644194Z"
    }
   },
   "outputs": [
    {
     "data": {
      "text/plain": [
       "[{'loss': -0.9472958057395143, 'status': 'ok'},\n",
       " {'loss': -0.9604827466016034, 'status': 'ok'},\n",
       " {'loss': -0.9582897641454631, 'status': 'ok'},\n",
       " {'loss': -0.9604682235389799, 'status': 'ok'},\n",
       " {'loss': -0.9626612059951203, 'status': 'ok'},\n",
       " {'loss': -0.9582752410828395, 'status': 'ok'},\n",
       " {'loss': -0.9560967816893227, 'status': 'ok'},\n",
       " {'loss': -0.9604682235389799, 'status': 'ok'},\n",
       " {'loss': -0.9626612059951203, 'status': 'ok'},\n",
       " {'loss': -0.9560967816893227, 'status': 'ok'},\n",
       " {'loss': -0.9560822586266992, 'status': 'ok'},\n",
       " {'loss': -0.9604682235389799, 'status': 'ok'},\n",
       " {'loss': -0.9582752410828395, 'status': 'ok'},\n",
       " {'loss': -0.9494742651330311, 'status': 'ok'},\n",
       " {'loss': -0.9494887881956547, 'status': 'ok'},\n",
       " {'loss': -0.958289764145463, 'status': 'ok'},\n",
       " {'loss': -0.9494887881956547, 'status': 'ok'},\n",
       " {'loss': -0.9626466829324968, 'status': 'ok'},\n",
       " {'loss': -0.9604682235389799, 'status': 'ok'},\n",
       " {'loss': -0.964868711513884, 'status': 'ok'},\n",
       " {'loss': -0.9582752410828395, 'status': 'ok'},\n",
       " {'loss': -0.9604682235389799, 'status': 'ok'},\n",
       " {'loss': -0.9604827466016034, 'status': 'ok'},\n",
       " {'loss': -0.9472958057395143, 'status': 'ok'},\n",
       " {'loss': -0.9363163703961893, 'status': 'ok'},\n",
       " {'loss': -0.9670616939700244, 'status': 'ok'},\n",
       " {'loss': -0.9626757290577438, 'status': 'ok'},\n",
       " {'loss': -0.9407168583710934, 'status': 'ok'},\n",
       " {'loss': -0.9582752410828395, 'status': 'ok'},\n",
       " {'loss': -0.9429243638898571, 'status': 'ok'},\n",
       " {'loss': -0.9516962937144186, 'status': 'ok'},\n",
       " {'loss': -0.9670616939700244, 'status': 'ok'},\n",
       " {'loss': -0.9604537004763566, 'status': 'ok'},\n",
       " {'loss': -0.9626757290577438, 'status': 'ok'},\n",
       " {'loss': -0.9604537004763566, 'status': 'ok'},\n",
       " {'loss': -0.9604537004763566, 'status': 'ok'},\n",
       " {'loss': -0.9604537004763566, 'status': 'ok'},\n",
       " {'loss': -0.9582752410828395, 'status': 'ok'},\n",
       " {'loss': -0.9560532125014524, 'status': 'ok'},\n",
       " {'loss': -0.958289764145463, 'status': 'ok'},\n",
       " {'loss': -0.9626612059951203, 'status': 'ok'},\n",
       " {'loss': -0.9604827466016034, 'status': 'ok'},\n",
       " {'loss': -0.9670616939700244, 'status': 'ok'},\n",
       " {'loss': -0.9626612059951203, 'status': 'ok'},\n",
       " {'loss': -0.9516962937144186, 'status': 'ok'},\n",
       " {'loss': -0.9648541884512606, 'status': 'ok'},\n",
       " {'loss': -0.9648541884512606, 'status': 'ok'},\n",
       " {'loss': -0.9648396653886371, 'status': 'ok'},\n",
       " {'loss': -0.9604972696642268, 'status': 'ok'},\n",
       " {'loss': -0.9604682235389799, 'status': 'ok'}]"
      ]
     },
     "execution_count": 37,
     "metadata": {},
     "output_type": "execute_result"
    }
   ],
   "source": [
    "# Trials 객체의 result 속성에 파이썬 리스트로 목적 함수 반환값들이 저장됨\n",
    "# 리스트 내부의 개별 원소는 {'loss':함수 반환값, 'status':반환 상태값} 와 같은 딕셔너리임. \n",
    "trial_val.results"
   ]
  },
  {
   "cell_type": "code",
   "execution_count": 33,
   "id": "26e5d5bc",
   "metadata": {
    "ExecuteTime": {
     "end_time": "2022-05-09T12:49:25.669534Z",
     "start_time": "2022-05-09T12:49:25.653103Z"
    }
   },
   "outputs": [
    {
     "name": "stdout",
     "output_type": "stream",
     "text": [
      "{'colsample_bytree': [0.5852347138193622, 0.7271863641855161, 0.9599446282177103, 0.9500116932342133, 0.6743364060621724, 0.8637740285716389, 0.9575208672481308, 0.6950178418953206, 0.684441779397407, 0.5921156978948783, 0.6147984356971752, 0.7767383218403126, 0.5147724605153474, 0.949782533600956, 0.9261209894715933, 0.5709901136927109, 0.8845494605701275, 0.548301545497125, 0.9102783821000844, 0.5325012994457242, 0.6448903552593086, 0.7809149353740567, 0.5101224389618698, 0.8221652003014476, 0.6474442723326842, 0.5424149213362504, 0.5381596018104068, 0.50646273858041, 0.6161621007772744, 0.5645004363767054, 0.7338255028647506, 0.5011019025007462, 0.597852955568476, 0.5019506063145684, 0.7091699780599466, 0.9994329972450053, 0.6515381726798483, 0.8399880223170878, 0.7651789401279038, 0.6134026515660492, 0.6665125226118613, 0.5595464026956128, 0.5274152029858842, 0.5882900366390131, 0.8049782668083675, 0.6968777525552029, 0.5249013078645705, 0.7258961569139915, 0.6309004947313197, 0.6752422160296729], 'learnig_rate': [0.033687779759699644, 0.10595638723433032, 0.15480405522751015, 0.12068624130838018, 0.14239187540914813, 0.10657919742273766, 0.07911118039578496, 0.09521261405810372, 0.1475201153968472, 0.0811792102834543, 0.07625547925933916, 0.08962397914323136, 0.09221389613779785, 0.08398304528710505, 0.1124771068757732, 0.06466333058186234, 0.042766479939490745, 0.1840281762576621, 0.13300579386403683, 0.09177140952220303, 0.18904340490109822, 0.15405703041768767, 0.16979302161466434, 0.05472793363227571, 0.011071593133555033, 0.12601372924444681, 0.12816086982012131, 0.01014730144773629, 0.17053951486878205, 0.025787167218879303, 0.05833898615588941, 0.11954795374523947, 0.17031851957576227, 0.11386191192355975, 0.1357409909368944, 0.19936640252012816, 0.12298557424257628, 0.10188239107345025, 0.1499964808841187, 0.13930844271118947, 0.10207771675901517, 0.06956846493800987, 0.16183417215041673, 0.16025739156328947, 0.11665127492832053, 0.1459551721115956, 0.18171992738780854, 0.19896188986900637, 0.1074075605544746, 0.12526045259713633], 'max_depth': [19.0, 5.0, 6.0, 6.0, 16.0, 8.0, 14.0, 19.0, 9.0, 8.0, 6.0, 7.0, 8.0, 19.0, 10.0, 6.0, 7.0, 18.0, 6.0, 9.0, 15.0, 11.0, 11.0, 16.0, 13.0, 17.0, 17.0, 12.0, 13.0, 20.0, 10.0, 14.0, 15.0, 17.0, 14.0, 18.0, 15.0, 20.0, 16.0, 14.0, 17.0, 18.0, 12.0, 12.0, 19.0, 13.0, 11.0, 10.0, 12.0, 14.0], 'min_child_weight': [2.0, 2.0, 2.0, 2.0, 2.0, 2.0, 2.0, 2.0, 2.0, 1.0, 2.0, 2.0, 2.0, 1.0, 1.0, 2.0, 2.0, 2.0, 2.0, 2.0, 1.0, 1.0, 2.0, 1.0, 2.0, 2.0, 1.0, 2.0, 2.0, 2.0, 2.0, 2.0, 2.0, 1.0, 2.0, 2.0, 2.0, 2.0, 2.0, 1.0, 2.0, 2.0, 2.0, 2.0, 1.0, 2.0, 2.0, 2.0, 1.0, 2.0]}\n"
     ]
    }
   ],
   "source": [
    "# Trials 객체의 vals 속성에 {'입력변수명':개별 수행 시마다 입력된 값 리스트} 형태로 저장됨\n",
    "print(trial_val.vals)"
   ]
  },
  {
   "cell_type": "code",
   "execution_count": 38,
   "id": "e040393a",
   "metadata": {
    "ExecuteTime": {
     "end_time": "2022-05-09T12:51:24.584152Z",
     "start_time": "2022-05-09T12:51:24.578125Z"
    }
   },
   "outputs": [
    {
     "data": {
      "text/plain": [
       "[-0.9472958057395143,\n",
       " -0.9604827466016034,\n",
       " -0.9582897641454631,\n",
       " -0.9604682235389799,\n",
       " -0.9626612059951203,\n",
       " -0.9582752410828395,\n",
       " -0.9560967816893227,\n",
       " -0.9604682235389799,\n",
       " -0.9626612059951203,\n",
       " -0.9560967816893227,\n",
       " -0.9560822586266992,\n",
       " -0.9604682235389799,\n",
       " -0.9582752410828395,\n",
       " -0.9494742651330311,\n",
       " -0.9494887881956547,\n",
       " -0.958289764145463,\n",
       " -0.9494887881956547,\n",
       " -0.9626466829324968,\n",
       " -0.9604682235389799,\n",
       " -0.964868711513884,\n",
       " -0.9582752410828395,\n",
       " -0.9604682235389799,\n",
       " -0.9604827466016034,\n",
       " -0.9472958057395143,\n",
       " -0.9363163703961893,\n",
       " -0.9670616939700244,\n",
       " -0.9626757290577438,\n",
       " -0.9407168583710934,\n",
       " -0.9582752410828395,\n",
       " -0.9429243638898571,\n",
       " -0.9516962937144186,\n",
       " -0.9670616939700244,\n",
       " -0.9604537004763566,\n",
       " -0.9626757290577438,\n",
       " -0.9604537004763566,\n",
       " -0.9604537004763566,\n",
       " -0.9604537004763566,\n",
       " -0.9582752410828395,\n",
       " -0.9560532125014524,\n",
       " -0.958289764145463,\n",
       " -0.9626612059951203,\n",
       " -0.9604827466016034,\n",
       " -0.9670616939700244,\n",
       " -0.9626612059951203,\n",
       " -0.9516962937144186,\n",
       " -0.9648541884512606,\n",
       " -0.9648541884512606,\n",
       " -0.9648396653886371,\n",
       " -0.9604972696642268,\n",
       " -0.9604682235389799]"
      ]
     },
     "execution_count": 38,
     "metadata": {},
     "output_type": "execute_result"
    }
   ],
   "source": [
    "losses = [loss_dict['loss'] for loss_dict in trial_val.results]\n",
    "losses"
   ]
  },
  {
   "cell_type": "code",
   "execution_count": 40,
   "id": "3b7a6dfb",
   "metadata": {
    "ExecuteTime": {
     "end_time": "2022-05-09T12:57:32.883564Z",
     "start_time": "2022-05-09T12:57:32.848147Z"
    }
   },
   "outputs": [
    {
     "data": {
      "text/html": [
       "<div>\n",
       "<style scoped>\n",
       "    .dataframe tbody tr th:only-of-type {\n",
       "        vertical-align: middle;\n",
       "    }\n",
       "\n",
       "    .dataframe tbody tr th {\n",
       "        vertical-align: top;\n",
       "    }\n",
       "\n",
       "    .dataframe thead th {\n",
       "        text-align: right;\n",
       "    }\n",
       "</style>\n",
       "<table border=\"1\" class=\"dataframe\">\n",
       "  <thead>\n",
       "    <tr style=\"text-align: right;\">\n",
       "      <th></th>\n",
       "      <th>max_depth</th>\n",
       "      <th>min_child_weight</th>\n",
       "      <th>colsample_bytree</th>\n",
       "      <th>learning_rate</th>\n",
       "      <th>losses</th>\n",
       "    </tr>\n",
       "  </thead>\n",
       "  <tbody>\n",
       "    <tr>\n",
       "      <th>0</th>\n",
       "      <td>19.0</td>\n",
       "      <td>2.0</td>\n",
       "      <td>0.585235</td>\n",
       "      <td>0.033688</td>\n",
       "      <td>-0.947296</td>\n",
       "    </tr>\n",
       "    <tr>\n",
       "      <th>1</th>\n",
       "      <td>5.0</td>\n",
       "      <td>2.0</td>\n",
       "      <td>0.727186</td>\n",
       "      <td>0.105956</td>\n",
       "      <td>-0.960483</td>\n",
       "    </tr>\n",
       "    <tr>\n",
       "      <th>2</th>\n",
       "      <td>6.0</td>\n",
       "      <td>2.0</td>\n",
       "      <td>0.959945</td>\n",
       "      <td>0.154804</td>\n",
       "      <td>-0.958290</td>\n",
       "    </tr>\n",
       "    <tr>\n",
       "      <th>3</th>\n",
       "      <td>6.0</td>\n",
       "      <td>2.0</td>\n",
       "      <td>0.950012</td>\n",
       "      <td>0.120686</td>\n",
       "      <td>-0.960468</td>\n",
       "    </tr>\n",
       "    <tr>\n",
       "      <th>4</th>\n",
       "      <td>16.0</td>\n",
       "      <td>2.0</td>\n",
       "      <td>0.674336</td>\n",
       "      <td>0.142392</td>\n",
       "      <td>-0.962661</td>\n",
       "    </tr>\n",
       "    <tr>\n",
       "      <th>5</th>\n",
       "      <td>8.0</td>\n",
       "      <td>2.0</td>\n",
       "      <td>0.863774</td>\n",
       "      <td>0.106579</td>\n",
       "      <td>-0.958275</td>\n",
       "    </tr>\n",
       "    <tr>\n",
       "      <th>6</th>\n",
       "      <td>14.0</td>\n",
       "      <td>2.0</td>\n",
       "      <td>0.957521</td>\n",
       "      <td>0.079111</td>\n",
       "      <td>-0.956097</td>\n",
       "    </tr>\n",
       "    <tr>\n",
       "      <th>7</th>\n",
       "      <td>19.0</td>\n",
       "      <td>2.0</td>\n",
       "      <td>0.695018</td>\n",
       "      <td>0.095213</td>\n",
       "      <td>-0.960468</td>\n",
       "    </tr>\n",
       "    <tr>\n",
       "      <th>8</th>\n",
       "      <td>9.0</td>\n",
       "      <td>2.0</td>\n",
       "      <td>0.684442</td>\n",
       "      <td>0.147520</td>\n",
       "      <td>-0.962661</td>\n",
       "    </tr>\n",
       "    <tr>\n",
       "      <th>9</th>\n",
       "      <td>8.0</td>\n",
       "      <td>1.0</td>\n",
       "      <td>0.592116</td>\n",
       "      <td>0.081179</td>\n",
       "      <td>-0.956097</td>\n",
       "    </tr>\n",
       "    <tr>\n",
       "      <th>10</th>\n",
       "      <td>6.0</td>\n",
       "      <td>2.0</td>\n",
       "      <td>0.614798</td>\n",
       "      <td>0.076255</td>\n",
       "      <td>-0.956082</td>\n",
       "    </tr>\n",
       "    <tr>\n",
       "      <th>11</th>\n",
       "      <td>7.0</td>\n",
       "      <td>2.0</td>\n",
       "      <td>0.776738</td>\n",
       "      <td>0.089624</td>\n",
       "      <td>-0.960468</td>\n",
       "    </tr>\n",
       "    <tr>\n",
       "      <th>12</th>\n",
       "      <td>8.0</td>\n",
       "      <td>2.0</td>\n",
       "      <td>0.514772</td>\n",
       "      <td>0.092214</td>\n",
       "      <td>-0.958275</td>\n",
       "    </tr>\n",
       "    <tr>\n",
       "      <th>13</th>\n",
       "      <td>19.0</td>\n",
       "      <td>1.0</td>\n",
       "      <td>0.949783</td>\n",
       "      <td>0.083983</td>\n",
       "      <td>-0.949474</td>\n",
       "    </tr>\n",
       "    <tr>\n",
       "      <th>14</th>\n",
       "      <td>10.0</td>\n",
       "      <td>1.0</td>\n",
       "      <td>0.926121</td>\n",
       "      <td>0.112477</td>\n",
       "      <td>-0.949489</td>\n",
       "    </tr>\n",
       "    <tr>\n",
       "      <th>15</th>\n",
       "      <td>6.0</td>\n",
       "      <td>2.0</td>\n",
       "      <td>0.570990</td>\n",
       "      <td>0.064663</td>\n",
       "      <td>-0.958290</td>\n",
       "    </tr>\n",
       "    <tr>\n",
       "      <th>16</th>\n",
       "      <td>7.0</td>\n",
       "      <td>2.0</td>\n",
       "      <td>0.884549</td>\n",
       "      <td>0.042766</td>\n",
       "      <td>-0.949489</td>\n",
       "    </tr>\n",
       "    <tr>\n",
       "      <th>17</th>\n",
       "      <td>18.0</td>\n",
       "      <td>2.0</td>\n",
       "      <td>0.548302</td>\n",
       "      <td>0.184028</td>\n",
       "      <td>-0.962647</td>\n",
       "    </tr>\n",
       "    <tr>\n",
       "      <th>18</th>\n",
       "      <td>6.0</td>\n",
       "      <td>2.0</td>\n",
       "      <td>0.910278</td>\n",
       "      <td>0.133006</td>\n",
       "      <td>-0.960468</td>\n",
       "    </tr>\n",
       "    <tr>\n",
       "      <th>19</th>\n",
       "      <td>9.0</td>\n",
       "      <td>2.0</td>\n",
       "      <td>0.532501</td>\n",
       "      <td>0.091771</td>\n",
       "      <td>-0.964869</td>\n",
       "    </tr>\n",
       "    <tr>\n",
       "      <th>20</th>\n",
       "      <td>15.0</td>\n",
       "      <td>1.0</td>\n",
       "      <td>0.644890</td>\n",
       "      <td>0.189043</td>\n",
       "      <td>-0.958275</td>\n",
       "    </tr>\n",
       "    <tr>\n",
       "      <th>21</th>\n",
       "      <td>11.0</td>\n",
       "      <td>1.0</td>\n",
       "      <td>0.780915</td>\n",
       "      <td>0.154057</td>\n",
       "      <td>-0.960468</td>\n",
       "    </tr>\n",
       "    <tr>\n",
       "      <th>22</th>\n",
       "      <td>11.0</td>\n",
       "      <td>2.0</td>\n",
       "      <td>0.510122</td>\n",
       "      <td>0.169793</td>\n",
       "      <td>-0.960483</td>\n",
       "    </tr>\n",
       "    <tr>\n",
       "      <th>23</th>\n",
       "      <td>16.0</td>\n",
       "      <td>1.0</td>\n",
       "      <td>0.822165</td>\n",
       "      <td>0.054728</td>\n",
       "      <td>-0.947296</td>\n",
       "    </tr>\n",
       "    <tr>\n",
       "      <th>24</th>\n",
       "      <td>13.0</td>\n",
       "      <td>2.0</td>\n",
       "      <td>0.647444</td>\n",
       "      <td>0.011072</td>\n",
       "      <td>-0.936316</td>\n",
       "    </tr>\n",
       "    <tr>\n",
       "      <th>25</th>\n",
       "      <td>17.0</td>\n",
       "      <td>2.0</td>\n",
       "      <td>0.542415</td>\n",
       "      <td>0.126014</td>\n",
       "      <td>-0.967062</td>\n",
       "    </tr>\n",
       "    <tr>\n",
       "      <th>26</th>\n",
       "      <td>17.0</td>\n",
       "      <td>1.0</td>\n",
       "      <td>0.538160</td>\n",
       "      <td>0.128161</td>\n",
       "      <td>-0.962676</td>\n",
       "    </tr>\n",
       "    <tr>\n",
       "      <th>27</th>\n",
       "      <td>12.0</td>\n",
       "      <td>2.0</td>\n",
       "      <td>0.506463</td>\n",
       "      <td>0.010147</td>\n",
       "      <td>-0.940717</td>\n",
       "    </tr>\n",
       "    <tr>\n",
       "      <th>28</th>\n",
       "      <td>13.0</td>\n",
       "      <td>2.0</td>\n",
       "      <td>0.616162</td>\n",
       "      <td>0.170540</td>\n",
       "      <td>-0.958275</td>\n",
       "    </tr>\n",
       "    <tr>\n",
       "      <th>29</th>\n",
       "      <td>20.0</td>\n",
       "      <td>2.0</td>\n",
       "      <td>0.564500</td>\n",
       "      <td>0.025787</td>\n",
       "      <td>-0.942924</td>\n",
       "    </tr>\n",
       "    <tr>\n",
       "      <th>30</th>\n",
       "      <td>10.0</td>\n",
       "      <td>2.0</td>\n",
       "      <td>0.733826</td>\n",
       "      <td>0.058339</td>\n",
       "      <td>-0.951696</td>\n",
       "    </tr>\n",
       "    <tr>\n",
       "      <th>31</th>\n",
       "      <td>14.0</td>\n",
       "      <td>2.0</td>\n",
       "      <td>0.501102</td>\n",
       "      <td>0.119548</td>\n",
       "      <td>-0.967062</td>\n",
       "    </tr>\n",
       "    <tr>\n",
       "      <th>32</th>\n",
       "      <td>15.0</td>\n",
       "      <td>2.0</td>\n",
       "      <td>0.597853</td>\n",
       "      <td>0.170319</td>\n",
       "      <td>-0.960454</td>\n",
       "    </tr>\n",
       "    <tr>\n",
       "      <th>33</th>\n",
       "      <td>17.0</td>\n",
       "      <td>1.0</td>\n",
       "      <td>0.501951</td>\n",
       "      <td>0.113862</td>\n",
       "      <td>-0.962676</td>\n",
       "    </tr>\n",
       "    <tr>\n",
       "      <th>34</th>\n",
       "      <td>14.0</td>\n",
       "      <td>2.0</td>\n",
       "      <td>0.709170</td>\n",
       "      <td>0.135741</td>\n",
       "      <td>-0.960454</td>\n",
       "    </tr>\n",
       "    <tr>\n",
       "      <th>35</th>\n",
       "      <td>18.0</td>\n",
       "      <td>2.0</td>\n",
       "      <td>0.999433</td>\n",
       "      <td>0.199366</td>\n",
       "      <td>-0.960454</td>\n",
       "    </tr>\n",
       "    <tr>\n",
       "      <th>36</th>\n",
       "      <td>15.0</td>\n",
       "      <td>2.0</td>\n",
       "      <td>0.651538</td>\n",
       "      <td>0.122986</td>\n",
       "      <td>-0.960454</td>\n",
       "    </tr>\n",
       "    <tr>\n",
       "      <th>37</th>\n",
       "      <td>20.0</td>\n",
       "      <td>2.0</td>\n",
       "      <td>0.839988</td>\n",
       "      <td>0.101882</td>\n",
       "      <td>-0.958275</td>\n",
       "    </tr>\n",
       "    <tr>\n",
       "      <th>38</th>\n",
       "      <td>16.0</td>\n",
       "      <td>2.0</td>\n",
       "      <td>0.765179</td>\n",
       "      <td>0.149996</td>\n",
       "      <td>-0.956053</td>\n",
       "    </tr>\n",
       "    <tr>\n",
       "      <th>39</th>\n",
       "      <td>14.0</td>\n",
       "      <td>1.0</td>\n",
       "      <td>0.613403</td>\n",
       "      <td>0.139308</td>\n",
       "      <td>-0.958290</td>\n",
       "    </tr>\n",
       "    <tr>\n",
       "      <th>40</th>\n",
       "      <td>17.0</td>\n",
       "      <td>2.0</td>\n",
       "      <td>0.666513</td>\n",
       "      <td>0.102078</td>\n",
       "      <td>-0.962661</td>\n",
       "    </tr>\n",
       "    <tr>\n",
       "      <th>41</th>\n",
       "      <td>18.0</td>\n",
       "      <td>2.0</td>\n",
       "      <td>0.559546</td>\n",
       "      <td>0.069568</td>\n",
       "      <td>-0.960483</td>\n",
       "    </tr>\n",
       "    <tr>\n",
       "      <th>42</th>\n",
       "      <td>12.0</td>\n",
       "      <td>2.0</td>\n",
       "      <td>0.527415</td>\n",
       "      <td>0.161834</td>\n",
       "      <td>-0.967062</td>\n",
       "    </tr>\n",
       "    <tr>\n",
       "      <th>43</th>\n",
       "      <td>12.0</td>\n",
       "      <td>2.0</td>\n",
       "      <td>0.588290</td>\n",
       "      <td>0.160257</td>\n",
       "      <td>-0.962661</td>\n",
       "    </tr>\n",
       "    <tr>\n",
       "      <th>44</th>\n",
       "      <td>19.0</td>\n",
       "      <td>1.0</td>\n",
       "      <td>0.804978</td>\n",
       "      <td>0.116651</td>\n",
       "      <td>-0.951696</td>\n",
       "    </tr>\n",
       "    <tr>\n",
       "      <th>45</th>\n",
       "      <td>13.0</td>\n",
       "      <td>2.0</td>\n",
       "      <td>0.696878</td>\n",
       "      <td>0.145955</td>\n",
       "      <td>-0.964854</td>\n",
       "    </tr>\n",
       "    <tr>\n",
       "      <th>46</th>\n",
       "      <td>11.0</td>\n",
       "      <td>2.0</td>\n",
       "      <td>0.524901</td>\n",
       "      <td>0.181720</td>\n",
       "      <td>-0.964854</td>\n",
       "    </tr>\n",
       "    <tr>\n",
       "      <th>47</th>\n",
       "      <td>10.0</td>\n",
       "      <td>2.0</td>\n",
       "      <td>0.725896</td>\n",
       "      <td>0.198962</td>\n",
       "      <td>-0.964840</td>\n",
       "    </tr>\n",
       "    <tr>\n",
       "      <th>48</th>\n",
       "      <td>12.0</td>\n",
       "      <td>1.0</td>\n",
       "      <td>0.630900</td>\n",
       "      <td>0.107408</td>\n",
       "      <td>-0.960497</td>\n",
       "    </tr>\n",
       "    <tr>\n",
       "      <th>49</th>\n",
       "      <td>14.0</td>\n",
       "      <td>2.0</td>\n",
       "      <td>0.675242</td>\n",
       "      <td>0.125260</td>\n",
       "      <td>-0.960468</td>\n",
       "    </tr>\n",
       "  </tbody>\n",
       "</table>\n",
       "</div>"
      ],
      "text/plain": [
       "    max_depth  min_child_weight  colsample_bytree  learning_rate    losses\n",
       "0        19.0               2.0          0.585235       0.033688 -0.947296\n",
       "1         5.0               2.0          0.727186       0.105956 -0.960483\n",
       "2         6.0               2.0          0.959945       0.154804 -0.958290\n",
       "3         6.0               2.0          0.950012       0.120686 -0.960468\n",
       "4        16.0               2.0          0.674336       0.142392 -0.962661\n",
       "5         8.0               2.0          0.863774       0.106579 -0.958275\n",
       "6        14.0               2.0          0.957521       0.079111 -0.956097\n",
       "7        19.0               2.0          0.695018       0.095213 -0.960468\n",
       "8         9.0               2.0          0.684442       0.147520 -0.962661\n",
       "9         8.0               1.0          0.592116       0.081179 -0.956097\n",
       "10        6.0               2.0          0.614798       0.076255 -0.956082\n",
       "11        7.0               2.0          0.776738       0.089624 -0.960468\n",
       "12        8.0               2.0          0.514772       0.092214 -0.958275\n",
       "13       19.0               1.0          0.949783       0.083983 -0.949474\n",
       "14       10.0               1.0          0.926121       0.112477 -0.949489\n",
       "15        6.0               2.0          0.570990       0.064663 -0.958290\n",
       "16        7.0               2.0          0.884549       0.042766 -0.949489\n",
       "17       18.0               2.0          0.548302       0.184028 -0.962647\n",
       "18        6.0               2.0          0.910278       0.133006 -0.960468\n",
       "19        9.0               2.0          0.532501       0.091771 -0.964869\n",
       "20       15.0               1.0          0.644890       0.189043 -0.958275\n",
       "21       11.0               1.0          0.780915       0.154057 -0.960468\n",
       "22       11.0               2.0          0.510122       0.169793 -0.960483\n",
       "23       16.0               1.0          0.822165       0.054728 -0.947296\n",
       "24       13.0               2.0          0.647444       0.011072 -0.936316\n",
       "25       17.0               2.0          0.542415       0.126014 -0.967062\n",
       "26       17.0               1.0          0.538160       0.128161 -0.962676\n",
       "27       12.0               2.0          0.506463       0.010147 -0.940717\n",
       "28       13.0               2.0          0.616162       0.170540 -0.958275\n",
       "29       20.0               2.0          0.564500       0.025787 -0.942924\n",
       "30       10.0               2.0          0.733826       0.058339 -0.951696\n",
       "31       14.0               2.0          0.501102       0.119548 -0.967062\n",
       "32       15.0               2.0          0.597853       0.170319 -0.960454\n",
       "33       17.0               1.0          0.501951       0.113862 -0.962676\n",
       "34       14.0               2.0          0.709170       0.135741 -0.960454\n",
       "35       18.0               2.0          0.999433       0.199366 -0.960454\n",
       "36       15.0               2.0          0.651538       0.122986 -0.960454\n",
       "37       20.0               2.0          0.839988       0.101882 -0.958275\n",
       "38       16.0               2.0          0.765179       0.149996 -0.956053\n",
       "39       14.0               1.0          0.613403       0.139308 -0.958290\n",
       "40       17.0               2.0          0.666513       0.102078 -0.962661\n",
       "41       18.0               2.0          0.559546       0.069568 -0.960483\n",
       "42       12.0               2.0          0.527415       0.161834 -0.967062\n",
       "43       12.0               2.0          0.588290       0.160257 -0.962661\n",
       "44       19.0               1.0          0.804978       0.116651 -0.951696\n",
       "45       13.0               2.0          0.696878       0.145955 -0.964854\n",
       "46       11.0               2.0          0.524901       0.181720 -0.964854\n",
       "47       10.0               2.0          0.725896       0.198962 -0.964840\n",
       "48       12.0               1.0          0.630900       0.107408 -0.960497\n",
       "49       14.0               2.0          0.675242       0.125260 -0.960468"
      ]
     },
     "execution_count": 40,
     "metadata": {},
     "output_type": "execute_result"
    }
   ],
   "source": [
    "result_df = pd.DataFrame({'max_depth' : trial_val.vals['max_depth'],\n",
    "                         'min_child_weight' : trial_val.vals['min_child_weight'],\n",
    "                         'colsample_bytree' : trial_val.vals['colsample_bytree'],\n",
    "                         'learning_rate' : trial_val.vals['learnig_rate'],\n",
    "                         'losses' : losses})\n",
    "result_df"
   ]
  },
  {
   "cell_type": "code",
   "execution_count": null,
   "id": "1cb4362f",
   "metadata": {},
   "outputs": [],
   "source": []
  }
 ],
 "metadata": {
  "kernelspec": {
   "display_name": "Python 3 (ipykernel)",
   "language": "python",
   "name": "python3"
  },
  "language_info": {
   "codemirror_mode": {
    "name": "ipython",
    "version": 3
   },
   "file_extension": ".py",
   "mimetype": "text/x-python",
   "name": "python",
   "nbconvert_exporter": "python",
   "pygments_lexer": "ipython3",
   "version": "3.9.7"
  },
  "toc": {
   "base_numbering": 1,
   "nav_menu": {},
   "number_sections": true,
   "sideBar": true,
   "skip_h1_title": false,
   "title_cell": "Table of Contents",
   "title_sidebar": "Contents",
   "toc_cell": false,
   "toc_position": {},
   "toc_section_display": true,
   "toc_window_display": false
  },
  "varInspector": {
   "cols": {
    "lenName": 16,
    "lenType": 16,
    "lenVar": 40
   },
   "kernels_config": {
    "python": {
     "delete_cmd_postfix": "",
     "delete_cmd_prefix": "del ",
     "library": "var_list.py",
     "varRefreshCmd": "print(var_dic_list())"
    },
    "r": {
     "delete_cmd_postfix": ") ",
     "delete_cmd_prefix": "rm(",
     "library": "var_list.r",
     "varRefreshCmd": "cat(var_dic_list()) "
    }
   },
   "types_to_exclude": [
    "module",
    "function",
    "builtin_function_or_method",
    "instance",
    "_Feature"
   ],
   "window_display": false
  }
 },
 "nbformat": 4,
 "nbformat_minor": 5
}
